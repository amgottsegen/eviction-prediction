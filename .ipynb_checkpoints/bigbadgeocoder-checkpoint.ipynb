{
 "cells": [
  {
   "cell_type": "code",
   "execution_count": 1,
   "metadata": {
    "collapsed": false
   },
   "outputs": [
    {
     "name": "stderr",
     "output_type": "stream",
     "text": [
      "C:\\Users\\catst\\Anaconda2\\lib\\site-packages\\passyunk\\parser.py:619: UserWarning: USPS file not found.\n",
      "  warnings.warn('USPS file not found.')\n",
      "C:\\Users\\catst\\Anaconda2\\lib\\site-packages\\passyunk\\parser.py:625: UserWarning: Election file not found.\n",
      "  warnings.warn('Election file not found.')\n"
     ]
    }
   ],
   "source": [
    "#import geopandas as gpd\n",
    "import pandas as pd\n",
    "from passyunk.parser import PassyunkParser\n",
    "from shapely.geometry import Point\n",
    "import re,json"
   ]
  },
  {
   "cell_type": "code",
   "execution_count": 2,
   "metadata": {
    "collapsed": false
   },
   "outputs": [],
   "source": [
    "import geopandas as gpd"
   ]
  },
  {
   "cell_type": "code",
   "execution_count": 3,
   "metadata": {
    "collapsed": true
   },
   "outputs": [],
   "source": [
    "%matplotlib inline"
   ]
  },
  {
   "cell_type": "code",
   "execution_count": 4,
   "metadata": {
    "collapsed": true
   },
   "outputs": [],
   "source": [
    "path = \"geodata/\""
   ]
  },
  {
   "cell_type": "code",
   "execution_count": 5,
   "metadata": {
    "collapsed": true
   },
   "outputs": [],
   "source": [
    "def initializeGeoDataFrame(resolution):\n",
    "    p = path + {\n",
    "        \"parcel\":\"parcels/DOR_Parcel.shp\",\n",
    "        \"blockgroup\": \"block_groups/Census_Block_Groups_2010.shp\",\n",
    "        \"street\":\"streets/Street_Centerline.shp\",\n",
    "        \"neighborhood\":\"neighborhoods/Neighborhoods_Philadelphia.shp\",\n",
    "        \"zipcode\":\"zipcodes/Zipcodes_Poly.shp\"\n",
    "    }[resolution]\n",
    "    gdf = gpd.read_file(p)\n",
    "    return gdf.to_crs({'init': 'epsg:4326'})"
   ]
  },
  {
   "cell_type": "code",
   "execution_count": 5,
   "metadata": {
    "collapsed": false
   },
   "outputs": [
    {
     "ename": "NameError",
     "evalue": "name 'pd' is not defined",
     "output_type": "error",
     "traceback": [
      "\u001b[0;31m---------------------------------------------------------------------------\u001b[0m",
      "\u001b[0;31mNameError\u001b[0m                                 Traceback (most recent call last)",
      "\u001b[0;32m<ipython-input-5-4fa850c6fb50>\u001b[0m in \u001b[0;36m<module>\u001b[0;34m()\u001b[0m\n\u001b[0;32m----> 1\u001b[0;31m \u001b[0mdf\u001b[0m \u001b[1;33m=\u001b[0m \u001b[0mpd\u001b[0m\u001b[1;33m.\u001b[0m\u001b[0mread_csv\u001b[0m\u001b[1;33m(\u001b[0m\u001b[1;34m'parcel_level/evictions/tenant-addresses-cleaned.csv'\u001b[0m\u001b[1;33m,\u001b[0m\u001b[0mcolumns\u001b[0m\u001b[1;33m=\u001b[0m\u001b[1;33m[\u001b[0m\u001b[1;34m'id'\u001b[0m\u001b[1;33m,\u001b[0m\u001b[1;34m'year'\u001b[0m\u001b[1;33m,\u001b[0m\u001b[1;34m'month'\u001b[0m\u001b[1;33m]\u001b[0m\u001b[1;33m,\u001b[0m\u001b[0mnrows\u001b[0m\u001b[1;33m=\u001b[0m\u001b[1;36m10000\u001b[0m\u001b[1;33m)\u001b[0m\u001b[1;33m\u001b[0m\u001b[0m\n\u001b[0m\u001b[1;32m      2\u001b[0m \u001b[0mdf\u001b[0m\u001b[1;33m.\u001b[0m\u001b[0mhead\u001b[0m\u001b[1;33m(\u001b[0m\u001b[1;33m)\u001b[0m\u001b[1;33m\u001b[0m\u001b[0m\n\u001b[1;32m      3\u001b[0m \u001b[1;31m#len(df.loc[df['coordinates'].isnull()]) / float(len(df)) * 100\u001b[0m\u001b[1;33m\u001b[0m\u001b[1;33m\u001b[0m\u001b[0m\n",
      "\u001b[0;31mNameError\u001b[0m: name 'pd' is not defined"
     ]
    }
   ],
   "source": [
    "df = pd.read_csv('parcel_level/evictions/tenant-addresses-cleaned.csv',columns=['id','year','month'],nrows=10000)\n",
    "df.head()\n",
    "#len(df.loc[df['coordinates'].isnull()]) / float(len(df)) * 100"
   ]
  },
  {
   "cell_type": "code",
   "execution_count": null,
   "metadata": {
    "collapsed": true
   },
   "outputs": [],
   "source": []
  },
  {
   "cell_type": "code",
   "execution_count": null,
   "metadata": {
    "collapsed": true
   },
   "outputs": [],
   "source": [
    "def geocodeWithOPA(data):\n",
    "    opa = pd.read_csv('parcel_level/opa_properties_public2.csv',encoding='utf-8')"
   ]
  },
  {
   "cell_type": "code",
   "execution_count": 85,
   "metadata": {
    "collapsed": false
   },
   "outputs": [],
   "source": [
    "def parseCraigslistLocations(location,zipcode):\n",
    "    if type(location) is not unicode:\n",
    "        return\n",
    "    features={}\n",
    "    location = location.upper()\n",
    "    #NEIGHBORHOOD\n",
    "    try:\n",
    "        features['neighborhood'] = []\n",
    "        f = json.load(open('neighborhood_list.json','r'))\n",
    "    except Exception as e:\n",
    "        print e\n",
    "    if f:\n",
    "        neighborhoods = sorted(f['neighborhoods'],key=lambda x:len(x),reverse=True)\n",
    "        for n in neighborhoods:\n",
    "            if n in location:\n",
    "                features['neighborhood'].append(n)\n",
    "                location = location.replace(n,'')\n",
    "    p = PassyunkParser()\n",
    "    components = p.parse(location)['components']\n",
    "    #ADDRESS\n",
    "    if components['address']['isaddr']:\n",
    "        features['address']= components['base_address']\n",
    "    #BLOCK    \n",
    "    blocksplit = re.split('\\d+[Xx]+',location)\n",
    "    if len(blocksplit) > 1:\n",
    "        street = blocksplit[1]\n",
    "        block = re.search('\\d+X+',location).group(0).replace('X','0')\n",
    "        features['block'] = block + street\n",
    "    #STREET\n",
    "    if components['street']['is_centerline_match']:\n",
    "        features['street'] = components['street']['full']\n",
    "    #INTERSECTION\n",
    "    if components['street_2']['is_centerline_match']:\n",
    "        features['street_2'] = components['street_2']['full']\n",
    "    #and when all else fails... ZIPCODE\n",
    "    features['zipcode'] = zipcode\n",
    "    return features"
   ]
  },
  {
   "cell_type": "code",
   "execution_count": 6,
   "metadata": {
    "collapsed": false
   },
   "outputs": [],
   "source": [
    "def getNeighborhood(gdf, data):\n",
    "    return gpd.sjoin(data,gdf[['NAME','geometry']],how=\"left\",op=\"within\")"
   ]
  },
  {
   "cell_type": "code",
   "execution_count": 7,
   "metadata": {
    "collapsed": true
   },
   "outputs": [],
   "source": [
    "def readData(path_std):\n",
    "    df = pd.read_csv(path_std,usecols=['objectid','lat','lng'])\n",
    "    df = df.loc[~df['lat'].isnull()]\n",
    "    geometry = [Point(xy) for xy in zip(df.lng, df.lat)]\n",
    "    df = df.drop(['lng', 'lat'], axis=1)\n",
    "    crs = {'init': 'epsg:4326'}\n",
    "    return gpd.GeoDataFrame(df, crs=crs, geometry=geometry)"
   ]
  },
  {
   "cell_type": "code",
   "execution_count": 8,
   "metadata": {
    "collapsed": false
   },
   "outputs": [],
   "source": [
    "gdf = initializeGeoDataFrame('neighborhood')\n",
    "data = readData('parcel_level/li_permits.csv')"
   ]
  },
  {
   "cell_type": "code",
   "execution_count": 9,
   "metadata": {
    "collapsed": false
   },
   "outputs": [
    {
     "data": {
      "text/html": [
       "<div>\n",
       "<table border=\"1\" class=\"dataframe\">\n",
       "  <thead>\n",
       "    <tr style=\"text-align: right;\">\n",
       "      <th></th>\n",
       "      <th>objectid</th>\n",
       "      <th>geometry</th>\n",
       "      <th>index_right</th>\n",
       "      <th>NAME</th>\n",
       "    </tr>\n",
       "  </thead>\n",
       "  <tbody>\n",
       "    <tr>\n",
       "      <th>0</th>\n",
       "      <td>30</td>\n",
       "      <td>POINT (-75.16346579594129 39.9770141784989)</td>\n",
       "      <td>81.0</td>\n",
       "      <td>NORTH_CENTRAL</td>\n",
       "    </tr>\n",
       "    <tr>\n",
       "      <th>1</th>\n",
       "      <td>31</td>\n",
       "      <td>POINT (-75.16346579594129 39.9770141784989)</td>\n",
       "      <td>81.0</td>\n",
       "      <td>NORTH_CENTRAL</td>\n",
       "    </tr>\n",
       "    <tr>\n",
       "      <th>2</th>\n",
       "      <td>32</td>\n",
       "      <td>POINT (-75.16346579594129 39.9770141784989)</td>\n",
       "      <td>81.0</td>\n",
       "      <td>NORTH_CENTRAL</td>\n",
       "    </tr>\n",
       "    <tr>\n",
       "      <th>3</th>\n",
       "      <td>33</td>\n",
       "      <td>POINT (-75.16346579594129 39.9770141784989)</td>\n",
       "      <td>81.0</td>\n",
       "      <td>NORTH_CENTRAL</td>\n",
       "    </tr>\n",
       "    <tr>\n",
       "      <th>4</th>\n",
       "      <td>34</td>\n",
       "      <td>POINT (-75.16346579594129 39.9770141784989)</td>\n",
       "      <td>81.0</td>\n",
       "      <td>NORTH_CENTRAL</td>\n",
       "    </tr>\n",
       "  </tbody>\n",
       "</table>\n",
       "</div>"
      ],
      "text/plain": [
       "   objectid                                     geometry  index_right  \\\n",
       "0        30  POINT (-75.16346579594129 39.9770141784989)         81.0   \n",
       "1        31  POINT (-75.16346579594129 39.9770141784989)         81.0   \n",
       "2        32  POINT (-75.16346579594129 39.9770141784989)         81.0   \n",
       "3        33  POINT (-75.16346579594129 39.9770141784989)         81.0   \n",
       "4        34  POINT (-75.16346579594129 39.9770141784989)         81.0   \n",
       "\n",
       "            NAME  \n",
       "0  NORTH_CENTRAL  \n",
       "1  NORTH_CENTRAL  \n",
       "2  NORTH_CENTRAL  \n",
       "3  NORTH_CENTRAL  \n",
       "4  NORTH_CENTRAL  "
      ]
     },
     "execution_count": 9,
     "metadata": {},
     "output_type": "execute_result"
    }
   ],
   "source": [
    "crosswalk = getNeighborhood(gdf,data)\n",
    "crosswalk.head()"
   ]
  },
  {
   "cell_type": "code",
   "execution_count": 154,
   "metadata": {
    "collapsed": false
   },
   "outputs": [
    {
     "data": {
      "text/plain": [
       "RITTENHOUSE             20112\n",
       "POINT_BREEZE            18280\n",
       "FISHTOWN                14181\n",
       "GRADUATE_HOSPITAL       12431\n",
       "NORTH_CENTRAL           11853\n",
       "LOGAN_SQUARE            11448\n",
       "NORTHERN_LIBERTIES      10824\n",
       "UNIVERSITY_CITY         10357\n",
       "WASHINGTON_SQUARE        9098\n",
       "COBBS_CREEK              8195\n",
       "RICHMOND                 7492\n",
       "OLD_CITY                 7169\n",
       "EAST_KENSINGTON          6275\n",
       "HARTRANFT                6131\n",
       "WEST_OAK_LANE            5878\n",
       "FRANCISVILLE             5866\n",
       "BUSTLETON                5354\n",
       "OVERBROOK                5321\n",
       "BREWERYTOWN              5258\n",
       "PASSYUNK_SQUARE          5201\n",
       "SOMERTON                 5039\n",
       "OLD_KENSINGTON           4956\n",
       "STRAWBERRY_MANSION       4804\n",
       "OLNEY                    4612\n",
       "OXFORD_CIRCLE            4574\n",
       "MAYFAIR                  4435\n",
       "QUEEN_VILLAGE            4422\n",
       "FRANKFORD                4235\n",
       "HADDINGTON               4181\n",
       "MANTUA                   4103\n",
       "                        ...  \n",
       "ACADEMY_GARDENS           760\n",
       "GARDEN_COURT              743\n",
       "ROXBOROUGH_PARK           739\n",
       "MILLBROOK                 736\n",
       "NICETOWN                  732\n",
       "SUMMERDALE                726\n",
       "YORKTOWN                  712\n",
       "LEXINGTON_PARK            680\n",
       "GERMANTOWN_PENN_KNOX      658\n",
       "EAST_PARK                 629\n",
       "DUNLAP                    576\n",
       "PENROSE                   566\n",
       "DEARNLEY_PARK             532\n",
       "MCGUIRE                   511\n",
       "CRESCENTVILLE             484\n",
       "BURHOLME                  473\n",
       "NORMANDY_VILLAGE          454\n",
       "CLEARVIEW                 440\n",
       "WINCHESTER_PARK           409\n",
       "MELROSE_PARK_GARDENS      393\n",
       "WOODLAND_TERRACE          376\n",
       "BARTRAM_VILLAGE           353\n",
       "WEST_PARK                 239\n",
       "CRESTMONT_FARMS           124\n",
       "WISSAHICKON_HILLS          97\n",
       "PORT_RICHMOND              64\n",
       "WISSAHICKON_PARK           43\n",
       "MECHANICSVILLE             34\n",
       "WEST_TORRESDALE            32\n",
       "PENNYPACK_PARK             18\n",
       "Name: NAME, dtype: int64"
      ]
     },
     "execution_count": 154,
     "metadata": {},
     "output_type": "execute_result"
    }
   ],
   "source": [
    "crosswalk['NAME'].value_counts()"
   ]
  },
  {
   "cell_type": "markdown",
   "metadata": {
    "collapsed": true
   },
   "source": [
    "# Test code"
   ]
  },
  {
   "cell_type": "code",
   "execution_count": 114,
   "metadata": {
    "collapsed": false
   },
   "outputs": [
    {
     "data": {
      "text/plain": [
       "{'address': {'addr_suffix': None,\n",
       "  'addrnum_type': None,\n",
       "  'fractional': None,\n",
       "  'full': None,\n",
       "  'high': None,\n",
       "  'high_num': None,\n",
       "  'high_num_full': None,\n",
       "  'isaddr': False,\n",
       "  'low': None,\n",
       "  'low_num': None,\n",
       "  'parity': None},\n",
       " 'address_unit': {'unit_num': None, 'unit_type': None},\n",
       " 'base_address': None,\n",
       " 'cl_addr_match': None,\n",
       " 'cl_responsibility': None,\n",
       " 'cl_seg_id': None,\n",
       " 'election': {'blockid': None, 'precinct': None},\n",
       " 'mailing': {'bldgfirm': None,\n",
       "  'matchdesc': None,\n",
       "  'uspstype': None,\n",
       "  'zip4': None,\n",
       "  'zipcode': None},\n",
       " 'output_address': None,\n",
       " 'street': {'full': None,\n",
       "  'is_centerline_match': False,\n",
       "  'name': None,\n",
       "  'parse_method': None,\n",
       "  'postdir': None,\n",
       "  'predir': None,\n",
       "  'score': None,\n",
       "  'street_code': None,\n",
       "  'suffix': None},\n",
       " 'street_2': {'full': None,\n",
       "  'is_centerline_match': False,\n",
       "  'name': None,\n",
       "  'parse_method': None,\n",
       "  'postdir': None,\n",
       "  'predir': None,\n",
       "  'score': None,\n",
       "  'street_code': None,\n",
       "  'suffix': None}}"
      ]
     },
     "execution_count": 114,
     "metadata": {},
     "output_type": "execute_result"
    }
   ],
   "source": [
    "df = pd.read_csv('varying/craigslist/parsed/apa/2017-10-21.csv',encoding='utf-8')\n",
    "p = PassyunkParser()\n",
    "components = p.parse('39.957113, -75.208309')['components']\n",
    "components\n",
    "#df['loc'].apply(lambda x: parseCraigslistLocations(x,0))"
   ]
  },
  {
   "cell_type": "code",
   "execution_count": null,
   "metadata": {
    "collapsed": true
   },
   "outputs": [],
   "source": []
  },
  {
   "cell_type": "code",
   "execution_count": null,
   "metadata": {
    "collapsed": true
   },
   "outputs": [],
   "source": []
  },
  {
   "cell_type": "markdown",
   "metadata": {},
   "source": [
    "# Notes, etc."
   ]
  },
  {
   "cell_type": "markdown",
   "metadata": {},
   "source": [
    "scenario:\n",
    "want to calculate risk of eviction for every parcel in philadelphia\n",
    "need to find all the everything in that parcel\n",
    "initializeGeoDataFrame for parcels\n",
    "for each parcel-level dataset, calculate number of records each parcel contains (returns parcel ID's and score)\n",
    "for each neighborhood level dataset, same. THEN also create crosswalk of parcels and neighborhoods\n",
    "for the varied dataset...:\n",
    "    -parse and bin based on geographic resolution? (passyunk for address > presence \"and\" or \"&\" or \"@\" for intersect > \"\\d\\dXX\" for block > list of neighborhoods > IF FAIL zipcode)\n",
    "    "
   ]
  },
  {
   "cell_type": "markdown",
   "metadata": {},
   "source": [
    "# Experimenting lining up the parcels and OPA datasets"
   ]
  },
  {
   "cell_type": "code",
   "execution_count": 35,
   "metadata": {
    "collapsed": false
   },
   "outputs": [
    {
     "data": {
      "text/plain": [
       "RECSUB                                                     None\n",
       "BASEREG                                              043S170192\n",
       "MAPREG                                               043S170192\n",
       "PARCEL                                                     0192\n",
       "RECMAP                                                   043S17\n",
       "STCOD                                                     68640\n",
       "HOUSE                                                      2421\n",
       "SUF                                                        None\n",
       "UNIT                                                       None\n",
       "STEX                                                          0\n",
       "STDIR                                                      None\n",
       "STNAM                                                    RITNER\n",
       "STDES                                                        ST\n",
       "STDESSUF                                                   None\n",
       "ELEV_FLAG                                                     0\n",
       "TOPELEV                                                    9999\n",
       "BOTELEV                                                   -9999\n",
       "CONDOFLAG                                                     0\n",
       "MATCHFLAG                                                     1\n",
       "INACTDATE                                            1899-12-30\n",
       "ORIG_DATE                                            2003-05-06\n",
       "STATUS                                                        1\n",
       "GEOID                                                      None\n",
       "SHAPE_AREA                                               895.09\n",
       "SHAPE_LEN                                               151.792\n",
       "geometry      POLYGON ((2687034.224999994 225221.4829999954,...\n",
       "Name: 8000, dtype: object"
      ]
     },
     "execution_count": 35,
     "metadata": {},
     "output_type": "execute_result"
    }
   ],
   "source": [
    "parcels.iloc[8000] #311035200 #032N060078"
   ]
  },
  {
   "cell_type": "code",
   "execution_count": 32,
   "metadata": {
    "collapsed": false
   },
   "outputs": [
    {
     "name": "stderr",
     "output_type": "stream",
     "text": [
      "C:\\Users\\catst\\Anaconda2\\lib\\site-packages\\IPython\\core\\interactiveshell.py:2717: DtypeWarning: Columns (2,5,10,12,72) have mixed types. Specify dtype option on import or set low_memory=False.\n",
      "  interactivity=interactivity, compiler=compiler, result=result)\n"
     ]
    }
   ],
   "source": [
    "properties = pd.read_csv(\"parcel_level/opa_properties_public.csv\")"
   ]
  },
  {
   "cell_type": "code",
   "execution_count": 34,
   "metadata": {
    "collapsed": false
   },
   "outputs": [
    {
     "data": {
      "text/plain": [
       "Index([u'the_geom', u'the_geom_webmercator', u'assessment_date', u'basements',\n",
       "       u'beginning_point', u'book_and_page', u'building_code',\n",
       "       u'building_code_description', u'category_code',\n",
       "       u'category_code_description', u'census_tract', u'central_air',\n",
       "       u'cross_reference', u'date_exterior_condition', u'depth',\n",
       "       u'exempt_building', u'exempt_land', u'exterior_condition',\n",
       "       u'fireplaces', u'frontage', u'fuel', u'garage_spaces', u'garage_type',\n",
       "       u'general_construction', u'geographic_ward', u'homestead_exemption',\n",
       "       u'house_extension', u'house_number', u'interior_condition', u'location',\n",
       "       u'mailing_address_1', u'mailing_address_2', u'mailing_care_of',\n",
       "       u'mailing_city_state', u'mailing_street', u'mailing_zip',\n",
       "       u'market_value', u'market_value_date', u'number_of_bathrooms',\n",
       "       u'number_of_bedrooms', u'number_of_rooms', u'number_stories',\n",
       "       u'off_street_open', u'other_building', u'owner_1', u'owner_2',\n",
       "       u'parcel_number', u'parcel_shape', u'quality_grade', u'recording_date',\n",
       "       u'registry_number', u'sale_date', u'sale_price', u'separate_utilities',\n",
       "       u'sewer', u'site_type', u'state_code', u'street_code',\n",
       "       u'street_designation', u'street_direction', u'street_name', u'suffix',\n",
       "       u'taxable_building', u'taxable_land', u'topography', u'total_area',\n",
       "       u'total_livable_area', u'type_heater', u'unfinished', u'unit',\n",
       "       u'utility', u'view_type', u'year_built', u'year_built_estimate',\n",
       "       u'zip_code', u'zoning', u'objectid', u'lat', u'lng'],\n",
       "      dtype='object')"
      ]
     },
     "execution_count": 34,
     "metadata": {},
     "output_type": "execute_result"
    }
   ],
   "source": [
    "properties.columns"
   ]
  },
  {
   "cell_type": "code",
   "execution_count": 67,
   "metadata": {
    "collapsed": false
   },
   "outputs": [],
   "source": [
    "#properties.loc[properties['owner_1'].str.contains('BELL TOWN PROPERTIES', na=False)].sort_values(by='total_livable_area')[['location','owner_1','sale_date','total_livable_area']]\n",
    "#properties.loc[properties['owner_1'].str.contains('BELMONT INVESTMENT', na=False)].sort_values(by='sale_date')[['location','owner_1','sale_date','total_livable_area','mailing_street','mailing_city_state']]\n",
    "#properties.loc[properties['mailing_street'].str.contains('PO BOX 1000', na=False) & properties['mailing_city_state'].str.contains('LAKEWOOD NJ', na=False)].sort_values(by='total_livable_area')[['location','owner_1','sale_date','total_livable_area','mailing_street','mailing_city_state','mailing_address_1','mailing_address_2','mailing_zip']].to_csv('lakewood.csv')\n",
    "properties.loc[properties['mailing_street'].str.contains('PO BOX 1000', na=False) & properties['mailing_city_state'].str.contains('LAKEWOOD NJ', na=False)].sort_values(by='total_livable_area')[['lat','lng']].to_csv('temp.csv')"
   ]
  },
  {
   "cell_type": "code",
   "execution_count": 43,
   "metadata": {
    "collapsed": false
   },
   "outputs": [],
   "source": [
    "properties.rename(columns={\"MAPREG\":\"BASEREG\"},inplace=True)"
   ]
  },
  {
   "cell_type": "code",
   "execution_count": 44,
   "metadata": {
    "collapsed": false
   },
   "outputs": [],
   "source": [
    "merged_on_basereg = pd.merge(properties[['BASEREG','location']],parcels[['BASEREG','HOUSE','STNAM']],how='inner',on='BASEREG')"
   ]
  },
  {
   "cell_type": "code",
   "execution_count": 33,
   "metadata": {
    "collapsed": false
   },
   "outputs": [
    {
     "name": "stdout",
     "output_type": "stream",
     "text": [
      "0.968029385075\n"
     ]
    }
   ],
   "source": [
    "print len(properties) / float(len(parcels))"
   ]
  },
  {
   "cell_type": "code",
   "execution_count": 42,
   "metadata": {
    "collapsed": false
   },
   "outputs": [
    {
     "data": {
      "text/plain": [
       "0.8036228162985377"
      ]
     },
     "execution_count": 42,
     "metadata": {},
     "output_type": "execute_result"
    }
   ],
   "source": [
    "len(merged_on_mapreg) / float(len(properties))"
   ]
  },
  {
   "cell_type": "code",
   "execution_count": 45,
   "metadata": {
    "collapsed": false
   },
   "outputs": [
    {
     "data": {
      "text/plain": [
       "0.818225054366369"
      ]
     },
     "execution_count": 45,
     "metadata": {},
     "output_type": "execute_result"
    }
   ],
   "source": [
    "len(merged_on_basereg) / float(len(properties))"
   ]
  },
  {
   "cell_type": "code",
   "execution_count": 49,
   "metadata": {
    "collapsed": false
   },
   "outputs": [
    {
     "data": {
      "text/plain": [
       "36736"
      ]
     },
     "execution_count": 49,
     "metadata": {},
     "output_type": "execute_result"
    }
   ],
   "source": [
    "len(merged_on_basereg.loc[merged_on_basereg['BASEREG'].isnull()])"
   ]
  },
  {
   "cell_type": "code",
   "execution_count": 50,
   "metadata": {
    "collapsed": false
   },
   "outputs": [
    {
     "data": {
      "text/plain": [
       "28224"
      ]
     },
     "execution_count": 50,
     "metadata": {},
     "output_type": "execute_result"
    }
   ],
   "source": [
    "len(merged_on_mapreg.loc[merged_on_mapreg['MAPREG'].isnull()])"
   ]
  },
  {
   "cell_type": "code",
   "execution_count": 51,
   "metadata": {
    "collapsed": false
   },
   "outputs": [
    {
     "data": {
      "text/plain": [
       "474834"
      ]
     },
     "execution_count": 51,
     "metadata": {},
     "output_type": "execute_result"
    }
   ],
   "source": [
    "len(merged_on_basereg)"
   ]
  },
  {
   "cell_type": "markdown",
   "metadata": {},
   "source": [
    "#API for this GIS? \n",
    "all return ID and polygon? or just ID?\n",
    "getParcel(point)\n",
    "getCensusBlockGroup(point or polygon)\n",
    "getNeighborhoods(point or polygon)\n",
    "\n",
    "Not used in parsing CL: \n",
    "getStreets(point (?or polygon?))\n",
    "getZipcodes(point or polygon)\n",
    "\n",
    "\n",
    "\n",
    "def get_geographic_features(location_str,zipcode):\n",
    "    features = {'zipcode':zipcode}\n",
    "    #ADDRESS\n",
    "    if Passyunk.standardize(location_str) == success:\n",
    "        features['address'] = STAND. ADDR.\n",
    "        features['lat','lng','OPA_key'] = find in OPA(address)\n",
    "        features['parcel_id'] from (1) point in parcels.shp or (2)matching OPA registry_num to parcels.shp MAPREG\n",
    "    \n",
    "    #BLOCK(S)\n",
    "    features['block'] = parseForBlock(features['address'] or location_str e.g. '19XX Powelton Ave')\n",
    "    \n",
    "    #STREET(S)\n",
    "    if parseForIntersection(location_str) == success:\n",
    "        features['street'] = streets_shp[street1, street2]\n",
    "        features[block] = #capture blocks that surround an intersection?\n",
    "    \n",
    "    #CENSUS BLOCK(S)\n",
    "    if features['block']:\n",
    "        features['census_block'] = features['block'] in census_blocks.shp\n",
    "        \n",
    "    #NEIGHBORHOOD(S)\n",
    "    if not features['block']:\n",
    "        features['neighborhood'] = parseForNeighborhoods(location_str)\n",
    "    else:\n",
    "        features['neighborhood'] = getNeighborhoods(features['block'])\n",
    "    "
   ]
  }
 ],
 "metadata": {
  "anaconda-cloud": {},
  "kernelspec": {
   "display_name": "Python [conda root]",
   "language": "python",
   "name": "conda-root-py"
  },
  "language_info": {
   "codemirror_mode": {
    "name": "ipython",
    "version": 2
   },
   "file_extension": ".py",
   "mimetype": "text/x-python",
   "name": "python",
   "nbconvert_exporter": "python",
   "pygments_lexer": "ipython2",
   "version": "2.7.12"
  }
 },
 "nbformat": 4,
 "nbformat_minor": 1
}
