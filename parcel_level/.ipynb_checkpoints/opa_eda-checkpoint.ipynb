{
 "cells": [
  {
   "cell_type": "code",
   "execution_count": 1,
   "metadata": {
    "collapsed": true
   },
   "outputs": [],
   "source": [
    "import json, re\n",
    "import pandas as pd\n",
    "import matplotlib.pyplot as plt"
   ]
  },
  {
   "cell_type": "code",
   "execution_count": 2,
   "metadata": {
    "collapsed": false
   },
   "outputs": [
    {
     "name": "stderr",
     "output_type": "stream",
     "text": [
      "C:\\Users\\catst\\Anaconda2\\lib\\site-packages\\IPython\\core\\interactiveshell.py:2717: DtypeWarning: Columns (2,5,10,12,72) have mixed types. Specify dtype option on import or set low_memory=False.\n",
      "  interactivity=interactivity, compiler=compiler, result=result)\n"
     ]
    }
   ],
   "source": [
    "#2,5,10(census tract),12,72(year built) have mixed types.\n",
    "datafile = 'opa_properties_public.csv'\n",
    "cols = set(range(0,79)) - set([2,5,10,12,72])\n",
    "opa_df = pd.read_csv(datafile)"
   ]
  },
  {
   "cell_type": "code",
   "execution_count": 3,
   "metadata": {
    "collapsed": false
   },
   "outputs": [
    {
     "data": {
      "text/plain": [
       "Index([u'the_geom', u'the_geom_webmercator', u'assessment_date', u'basements',\n",
       "       u'beginning_point', u'book_and_page', u'building_code',\n",
       "       u'building_code_description', u'category_code',\n",
       "       u'category_code_description', u'census_tract', u'central_air',\n",
       "       u'cross_reference', u'date_exterior_condition', u'depth',\n",
       "       u'exempt_building', u'exempt_land', u'exterior_condition',\n",
       "       u'fireplaces', u'frontage', u'fuel', u'garage_spaces', u'garage_type',\n",
       "       u'general_construction', u'geographic_ward', u'homestead_exemption',\n",
       "       u'house_extension', u'house_number', u'interior_condition', u'location',\n",
       "       u'mailing_address_1', u'mailing_address_2', u'mailing_care_of',\n",
       "       u'mailing_city_state', u'mailing_street', u'mailing_zip',\n",
       "       u'market_value', u'market_value_date', u'number_of_bathrooms',\n",
       "       u'number_of_bedrooms', u'number_of_rooms', u'number_stories',\n",
       "       u'off_street_open', u'other_building', u'owner_1', u'owner_2',\n",
       "       u'parcel_number', u'parcel_shape', u'quality_grade', u'recording_date',\n",
       "       u'registry_number', u'sale_date', u'sale_price', u'separate_utilities',\n",
       "       u'sewer', u'site_type', u'state_code', u'street_code',\n",
       "       u'street_designation', u'street_direction', u'street_name', u'suffix',\n",
       "       u'taxable_building', u'taxable_land', u'topography', u'total_area',\n",
       "       u'total_livable_area', u'type_heater', u'unfinished', u'unit',\n",
       "       u'utility', u'view_type', u'year_built', u'year_built_estimate',\n",
       "       u'zip_code', u'zoning', u'objectid', u'lat', u'lng'],\n",
       "      dtype='object')"
      ]
     },
     "execution_count": 3,
     "metadata": {},
     "output_type": "execute_result"
    }
   ],
   "source": [
    "opa_df[['house_number','house_extension']]"
   ]
  },
  {
   "cell_type": "code",
   "execution_count": 92,
   "metadata": {
    "collapsed": false
   },
   "outputs": [
    {
     "data": {
      "text/html": [
       "<div>\n",
       "<table border=\"1\" class=\"dataframe\">\n",
       "  <thead>\n",
       "    <tr style=\"text-align: right;\">\n",
       "      <th></th>\n",
       "      <th>location</th>\n",
       "      <th>owner_1</th>\n",
       "      <th>sale_date</th>\n",
       "      <th>sale_price</th>\n",
       "    </tr>\n",
       "  </thead>\n",
       "  <tbody>\n",
       "    <tr>\n",
       "      <th>29940</th>\n",
       "      <td>4012-30 BARING ST</td>\n",
       "      <td>CP ACQUISITIONS 17 LLC</td>\n",
       "      <td>2015-12-02 00:00:00</td>\n",
       "      <td>1</td>\n",
       "    </tr>\n",
       "    <tr>\n",
       "      <th>29992</th>\n",
       "      <td>4027 BARING ST</td>\n",
       "      <td>CP ACQUISITIONS 16 LLC</td>\n",
       "      <td>2015-09-08 00:00:00</td>\n",
       "      <td>3200000</td>\n",
       "    </tr>\n",
       "    <tr>\n",
       "      <th>55468</th>\n",
       "      <td>2201 BRYN MAWR AVE</td>\n",
       "      <td>CP ACQUISITIONS 30 LLC</td>\n",
       "      <td>2016-12-01 00:00:00</td>\n",
       "      <td>16350000</td>\n",
       "    </tr>\n",
       "    <tr>\n",
       "      <th>83428</th>\n",
       "      <td>707 CHESTNUT ST</td>\n",
       "      <td>CP ACQUISITIONS 20 LP</td>\n",
       "      <td>2015-12-23 00:00:00</td>\n",
       "      <td>4400000</td>\n",
       "    </tr>\n",
       "    <tr>\n",
       "      <th>261805</th>\n",
       "      <td>1624-28 LOCUST ST</td>\n",
       "      <td>CP ACQUISITIONS 45 LLC</td>\n",
       "      <td>2017-05-01 00:00:00</td>\n",
       "      <td>7950000</td>\n",
       "    </tr>\n",
       "    <tr>\n",
       "      <th>263523</th>\n",
       "      <td>1601-03 LOMBARD ST</td>\n",
       "      <td>CP ACQUISITIONS 23 LP</td>\n",
       "      <td>2016-04-04 00:00:00</td>\n",
       "      <td>1</td>\n",
       "    </tr>\n",
       "    <tr>\n",
       "      <th>336546</th>\n",
       "      <td>6301-15 OVERBROOK AVE</td>\n",
       "      <td>CP ACQUISITIONS 5 L P</td>\n",
       "      <td>2013-01-31 00:00:00</td>\n",
       "      <td>7000000</td>\n",
       "    </tr>\n",
       "    <tr>\n",
       "      <th>415732</th>\n",
       "      <td>3608-12 SPRING GARDEN ST</td>\n",
       "      <td>CP ACQUISITIONS 16 LLC</td>\n",
       "      <td>2015-09-08 00:00:00</td>\n",
       "      <td>3200000</td>\n",
       "    </tr>\n",
       "  </tbody>\n",
       "</table>\n",
       "</div>"
      ],
      "text/plain": [
       "                         location                    owner_1  \\\n",
       "29940   4012-30 BARING ST          CP ACQUISITIONS 17 LLC      \n",
       "29992   4027 BARING ST             CP ACQUISITIONS 16 LLC      \n",
       "55468   2201 BRYN MAWR AVE         CP ACQUISITIONS 30 LLC      \n",
       "83428   707 CHESTNUT ST            CP ACQUISITIONS 20 LP       \n",
       "261805  1624-28 LOCUST ST          CP ACQUISITIONS 45 LLC      \n",
       "263523  1601-03 LOMBARD ST         CP ACQUISITIONS 23 LP       \n",
       "336546      6301-15 OVERBROOK AVE      CP ACQUISITIONS 5 L P   \n",
       "415732   3608-12 SPRING GARDEN ST     CP ACQUISITIONS 16 LLC   \n",
       "\n",
       "                  sale_date  sale_price  \n",
       "29940   2015-12-02 00:00:00           1  \n",
       "29992   2015-09-08 00:00:00     3200000  \n",
       "55468   2016-12-01 00:00:00    16350000  \n",
       "83428   2015-12-23 00:00:00     4400000  \n",
       "261805  2017-05-01 00:00:00     7950000  \n",
       "263523  2016-04-04 00:00:00           1  \n",
       "336546  2013-01-31 00:00:00     7000000  \n",
       "415732  2015-09-08 00:00:00     3200000  "
      ]
     },
     "execution_count": 92,
     "metadata": {},
     "output_type": "execute_result"
    }
   ],
   "source": [
    "opa_df[opa_df['owner_1'].str.contains('CP ACQUISITIONS',na=False)][['location','owner_1','sale_date','sale_price']]"
   ]
  },
  {
   "cell_type": "code",
   "execution_count": 28,
   "metadata": {
    "collapsed": false
   },
   "outputs": [
    {
     "data": {
      "image/png": "[encoded data removed]",
      "text/plain": [
       "<matplotlib.figure.Figure at 0x10853e80>"
      ]
     },
     "metadata": {},
     "output_type": "display_data"
    }
   ],
   "source": [
    "unique_building_codes = df['building_code'].value_counts()\n",
    "unique_building_codes.plot(ylim=[0,20000])\n",
    "plt.show()"
   ]
  },
  {
   "cell_type": "code",
   "execution_count": 42,
   "metadata": {
    "collapsed": false
   },
   "outputs": [
    {
     "data": {
      "text/plain": [
       "389"
      ]
     },
     "execution_count": 42,
     "metadata": {},
     "output_type": "execute_result"
    }
   ],
   "source": [
    "#codes have 2 spaces after the actual code... ugh. could probably clean this when reading file?\n",
    "unique_building_codes['C10  ']"
   ]
  },
  {
   "cell_type": "code",
   "execution_count": null,
   "metadata": {
    "collapsed": true
   },
   "outputs": [],
   "source": [
    "df[]"
   ]
  },
  {
   "cell_type": "code",
   "execution_count": 58,
   "metadata": {
    "collapsed": false
   },
   "outputs": [
    {
     "name": "stdout",
     "output_type": "stream",
     "text": [
      "Total number of properties: \n",
      "580322\n",
      "Relevant properties: \n",
      "532410\n"
     ]
    }
   ],
   "source": [
    "print \"Total number of properties: \"\n",
    "print len(df)\n",
    "minus_vacant = df.loc[~df['building_code_description'].str.contains('VACANT')].loc[~df['building_code_description'].str.contains('WAREHOUSE')].loc[~df['building_code_description'].str.contains('PARKING')]\n",
    "print \"Relevant properties: \"\n",
    "print len(minus_vacant)"
   ]
  },
  {
   "cell_type": "code",
   "execution_count": 61,
   "metadata": {
    "collapsed": false
   },
   "outputs": [
    {
     "data": {
      "text/plain": [
       "ROW 2 STY MASONRY            178169\n",
       "ROW B/GAR 2 STY MASONRY      100517\n",
       "ROW 3 STY MASONRY             28713\n",
       "S/D W/B GAR 2 STY MASONRY     15778\n",
       "SEMI/DET 2 STY MASONRY        14997\n",
       "RES CONDO 5+ STY MASONRY      13967\n",
       "APT 2-4 UNITS 2 STY MASON     10723\n",
       "S/D W/B GAR 1 STY MASONRY      8290\n",
       "ROW CONV/APT 3 STY MASON       8137\n",
       "ROW CONV/APT 2 STY MASON       7292\n",
       "ROW W/OFF STR 2 STY MASON      5368\n",
       "STR/OFF+APT 3 STY MASONRY      5152\n",
       "ROW B/GAR 2 STY MAS+OTHER      4634\n",
       "SEMI/DET 3 STY MASONRY         4555\n",
       "RES CONDO 3 STY MASONRY        4069\n",
       "APTS 5-50 UNITS MASONRY        3924\n",
       "S/D W/D GAR 2 STY MASONRY      3878\n",
       "S/D W/B GAR 2 STY MAS+OTH      3683\n",
       "RES CONDO 4 STY MASONRY        3203\n",
       "S/D CONV APT 3 STY MASON       2815\n",
       "ROW W/DET GAR 2 STY MAS        2522\n",
       "RES CONDO 5+ STY MAS+OTH       2400\n",
       "ROW B/GAR 1 STY MASONRY        2374\n",
       "ROW W/GAR 3 STY MASONRY        2193\n",
       "RES CONDO 2 STY MASONRY        2047\n",
       "RES CONDO 3 STY MAS+OTH        1852\n",
       "RES CONDO 2 STY MAS+OTH        1803\n",
       "DET W/GAR 2 STY FRAME          1731\n",
       "DET W/B GAR 2 STY MAS+OTH      1730\n",
       "SEMI/DET 2.5 STY MASONRY       1678\n",
       "                              ...  \n",
       "PKG LOT COM W/BLDG FRAME          1\n",
       "DET W/GAR 3.5 STY MASONRY         1\n",
       "PKG LOT PRV W/ATT BTH MAS         1\n",
       "SCHOOL 2 STY FRAME                1\n",
       "MISC RR STA FRAME                 1\n",
       "IND CHEMICAL PLNT MAS+OTH         1\n",
       "APT 2-4 UNITS 1.5 STY M+O         1\n",
       "MISC BUS STA+COMM MASONRY         1\n",
       "S/D W/D GAR 1 STY STONE           1\n",
       "AIR RTS/OFF 2 STY MASONRY         1\n",
       "PUB UTIL 6 STY METAL              1\n",
       "DET OFF/STR 3.5 STY MASON         1\n",
       "PUB UTIL 2 STY METAL              1\n",
       "S/D OFF/STR 2 STY FRAME           1\n",
       "SHOP CENT AREA MAS+OTH            1\n",
       "ROW 4 STY STONE                   1\n",
       "MISC RR STA METAL                 1\n",
       "PRIV GAR 3 STY MASONRY            1\n",
       "MOTEL 3 STY MASONRY               1\n",
       "PUB UTIL 6 STY FRAME              1\n",
       "PUB UTIL 10-14 STY MASON          1\n",
       "MISC NOT CODED MAS+OTH            1\n",
       "STR/OFF 4 STY MAS+OTHER           1\n",
       "OFF E-COMMERCE MASONRY            1\n",
       "PIERS CRIBBED MAS+OTHER           1\n",
       "PIERS OPEN FRAME                  1\n",
       "OFF BLD COM NO GAR FRAME          1\n",
       "ROW W/DET GAR 1 STY FRAME         1\n",
       "PRIV GAR 4.5 STY MASONRY          1\n",
       "AUTO PARTS/SUPPLY MAS+OTH         1\n",
       "Name: building_code_description, dtype: int64"
      ]
     },
     "execution_count": 61,
     "metadata": {},
     "output_type": "execute_result"
    }
   ],
   "source": [
    "minus_vacant['building_code_description'].value_counts()"
   ]
  },
  {
   "cell_type": "code",
   "execution_count": 3,
   "metadata": {
    "collapsed": false
   },
   "outputs": [],
   "source": [
    "######START EDA OF L&I DATA"
   ]
  },
  {
   "cell_type": "code",
   "execution_count": 6,
   "metadata": {
    "collapsed": false
   },
   "outputs": [
    {
     "name": "stderr",
     "output_type": "stream",
     "text": [
      "C:\\Users\\catst\\Anaconda2\\lib\\site-packages\\IPython\\core\\interactiveshell.py:2717: DtypeWarning: Columns (4,11) have mixed types. Specify dtype option on import or set low_memory=False.\n",
      "  interactivity=interactivity, compiler=compiler, result=result)\n"
     ]
    }
   ],
   "source": [
    "df = pd.read_csv('li_permits.csv')"
   ]
  },
  {
   "cell_type": "code",
   "execution_count": 18,
   "metadata": {
    "collapsed": false
   },
   "outputs": [
    {
     "data": {
      "text/plain": [
       "Index([u'the_geom', u'the_geom_webmercator', u'objectid', u'addresskey',\n",
       "       u'opa_account_num', u'address', u'unit', u'zip', u'censustract',\n",
       "       u'ownername', u'organization', u'permitnumber', u'permittype',\n",
       "       u'permitdescription', u'permit_type_name', u'typeofwork',\n",
       "       u'descriptionofwork', u'permitissuedate', u'status', u'moddttm',\n",
       "       u'applicantcapacity', u'contractorname', u'contractoraddress1',\n",
       "       u'contractoraddress2', u'contractorcity', u'contractorstate',\n",
       "       u'contractorzip', u'mostrecentinsp', u'geocode_x', u'geocode_y', u'lat',\n",
       "       u'lng'],\n",
       "      dtype='object')"
      ]
     },
     "execution_count": 18,
     "metadata": {},
     "output_type": "execute_result"
    }
   ],
   "source": [
    "df.columns"
   ]
  },
  {
   "cell_type": "code",
   "execution_count": 78,
   "metadata": {
    "collapsed": false
   },
   "outputs": [
    {
     "data": {
      "text/html": [
       "<div>\n",
       "<table border=\"1\" class=\"dataframe\">\n",
       "  <thead>\n",
       "    <tr style=\"text-align: right;\">\n",
       "      <th></th>\n",
       "      <th>address</th>\n",
       "      <th>permitissuedate</th>\n",
       "      <th>permit_type_name</th>\n",
       "      <th>descriptionofwork</th>\n",
       "    </tr>\n",
       "  </thead>\n",
       "  <tbody>\n",
       "    <tr>\n",
       "      <th>55778</th>\n",
       "      <td>707 CHESTNUT ST</td>\n",
       "      <td>2007-01-09 11:41:09</td>\n",
       "      <td>ELE-ELECTRICAL WITH PLANS</td>\n",
       "      <td>THROUGHOUT INSTALL NEW FIRE ALARM SYSTEM</td>\n",
       "    </tr>\n",
       "    <tr>\n",
       "      <th>56127</th>\n",
       "      <td>707 CHESTNUT ST</td>\n",
       "      <td>2007-01-22 14:01:13</td>\n",
       "      <td>ELE-EZ ELECTRICAL</td>\n",
       "      <td>SECURITY SYSTEM TO BE INSTALLED, ACCESS SYSTEM...</td>\n",
       "    </tr>\n",
       "    <tr>\n",
       "      <th>56125</th>\n",
       "      <td>707 CHESTNUT ST</td>\n",
       "      <td>2007-01-23 14:05:33</td>\n",
       "      <td>ELE-EZ ELECTRICAL</td>\n",
       "      <td>INSTALL VOICE/DATA CAT5 - 4 IN  BASEMENT &amp; 3 O...</td>\n",
       "    </tr>\n",
       "    <tr>\n",
       "      <th>56124</th>\n",
       "      <td>707 CHESTNUT ST</td>\n",
       "      <td>2007-01-29 08:37:17</td>\n",
       "      <td>ADM-AMENDMENTS &amp; REVISED PLANS</td>\n",
       "      <td>AMEND PERMIT 186988 AS PER PLANS</td>\n",
       "    </tr>\n",
       "    <tr>\n",
       "      <th>56123</th>\n",
       "      <td>707 CHESTNUT ST</td>\n",
       "      <td>2007-02-05 09:31:04</td>\n",
       "      <td>FSP-KITCHEN HOODS (EXTINGUISH)</td>\n",
       "      <td>INSTALL ANSUL R-102 -  9 GAL. SYSTEM</td>\n",
       "    </tr>\n",
       "    <tr>\n",
       "      <th>56121</th>\n",
       "      <td>707 CHESTNUT ST</td>\n",
       "      <td>2007-03-29 13:01:52</td>\n",
       "      <td>ELE-EZ ELECTRICAL</td>\n",
       "      <td>MOUNTING OF SYSTEM EQUIPMENT TO EXISTING WIRIN...</td>\n",
       "    </tr>\n",
       "    <tr>\n",
       "      <th>56122</th>\n",
       "      <td>707 CHESTNUT ST</td>\n",
       "      <td>2007-03-29 15:12:39</td>\n",
       "      <td>MEC-KITCHEN HOOD</td>\n",
       "      <td>HOOD AND DUCTWORK</td>\n",
       "    </tr>\n",
       "    <tr>\n",
       "      <th>55808</th>\n",
       "      <td>707 CHESTNUT ST</td>\n",
       "      <td>2008-10-10 15:19:24</td>\n",
       "      <td>ALT-MAJOR ALTERATION</td>\n",
       "      <td>RENOVATIONS TO BASEMENT AND FIRST FLOOR ONLY. ...</td>\n",
       "    </tr>\n",
       "    <tr>\n",
       "      <th>55807</th>\n",
       "      <td>707 CHESTNUT ST</td>\n",
       "      <td>2008-11-05 13:11:01</td>\n",
       "      <td>PLU-EZ PLUMBING</td>\n",
       "      <td>NEW 3 HAND SINKS, 5 INDIRECT WASTE, 3 FLOOR DR...</td>\n",
       "    </tr>\n",
       "    <tr>\n",
       "      <th>55806</th>\n",
       "      <td>707 CHESTNUT ST</td>\n",
       "      <td>2008-12-18 12:09:28</td>\n",
       "      <td>ELE-EZ ELECTRICAL</td>\n",
       "      <td>RELOCATE RECEPTS TO NEW WALL WITH EXISTING CIR...</td>\n",
       "    </tr>\n",
       "    <tr>\n",
       "      <th>55804</th>\n",
       "      <td>707 CHESTNUT ST</td>\n",
       "      <td>2009-02-13 06:53:07</td>\n",
       "      <td>NaN</td>\n",
       "      <td>NaN</td>\n",
       "    </tr>\n",
       "    <tr>\n",
       "      <th>55805</th>\n",
       "      <td>707 CHESTNUT ST</td>\n",
       "      <td>2009-02-26 09:22:07</td>\n",
       "      <td>Z/U/S-ACCESSORY SIGNS</td>\n",
       "      <td>INSTALL (1) SET OF CHANNEL LETTERS.  INSTALL (...</td>\n",
       "    </tr>\n",
       "    <tr>\n",
       "      <th>399625</th>\n",
       "      <td>1707 CHESTNUT ST</td>\n",
       "      <td>2010-09-14 10:59:26</td>\n",
       "      <td>ZON-ERECT FENCE</td>\n",
       "      <td>EXISTING GATES ARE BEING RELOCATED FROM A RECE...</td>\n",
       "    </tr>\n",
       "    <tr>\n",
       "      <th>399624</th>\n",
       "      <td>1707 CHESTNUT ST</td>\n",
       "      <td>2010-09-28 12:21:18</td>\n",
       "      <td>ALT-MAJOR ALTERATION</td>\n",
       "      <td>CIVIL SITE WORK, INSTALL NEW FENCES &amp; NEW FOOT...</td>\n",
       "    </tr>\n",
       "    <tr>\n",
       "      <th>399623</th>\n",
       "      <td>1707 CHESTNUT ST</td>\n",
       "      <td>2010-12-13 09:57:03</td>\n",
       "      <td>ELE-EZ ELECTRICAL</td>\n",
       "      <td>REPLACE EXISTING OUTDOOR LIGHING OWNER(CCD) FU...</td>\n",
       "    </tr>\n",
       "    <tr>\n",
       "      <th>56156</th>\n",
       "      <td>707 CHESTNUT ST</td>\n",
       "      <td>2013-10-02 11:57:44</td>\n",
       "      <td>ALT-MAJOR ALTERATION</td>\n",
       "      <td>NO CHANGE IN USE AND OCCUPANCY. DEMOLITION TO ...</td>\n",
       "    </tr>\n",
       "    <tr>\n",
       "      <th>56155</th>\n",
       "      <td>707 CHESTNUT ST</td>\n",
       "      <td>2013-10-11 14:09:23</td>\n",
       "      <td>PLU-EZ PLUMBING</td>\n",
       "      <td>INSTALL 2-HAND SINKS &amp; FLOOR SINKS (RESTAURANT)</td>\n",
       "    </tr>\n",
       "    <tr>\n",
       "      <th>56154</th>\n",
       "      <td>707 CHESTNUT ST</td>\n",
       "      <td>2013-10-29 09:18:07</td>\n",
       "      <td>ELE-ELECTRICAL WITH PLANS</td>\n",
       "      <td>INSTALL A NEW 200AMP ELECTRICAL SERVICE, 3P MA...</td>\n",
       "    </tr>\n",
       "    <tr>\n",
       "      <th>56130</th>\n",
       "      <td>707 CHESTNUT ST</td>\n",
       "      <td>2013-12-12 09:27:41</td>\n",
       "      <td>ALT-MAJOR ALTERATION</td>\n",
       "      <td>EXTERIOR RENOVATIONS TO THE FRONT FACADE OF TH...</td>\n",
       "    </tr>\n",
       "    <tr>\n",
       "      <th>56153</th>\n",
       "      <td>707 CHESTNUT ST</td>\n",
       "      <td>2014-01-13 15:25:44</td>\n",
       "      <td>ADM-AMENDMENTS &amp; REVISED PLANS</td>\n",
       "      <td>FOR THE ISSUANCE OF A CERTIFICATE OF OCCUPANCY...</td>\n",
       "    </tr>\n",
       "    <tr>\n",
       "      <th>56129</th>\n",
       "      <td>707 CHESTNUT ST</td>\n",
       "      <td>2014-01-31 08:25:13</td>\n",
       "      <td>Z/U/S-ACCESSORY SIGNS</td>\n",
       "      <td>FOR THE ERECTION OF ONE FLAT WALL  SIGN AND IN...</td>\n",
       "    </tr>\n",
       "    <tr>\n",
       "      <th>56126</th>\n",
       "      <td>707 CHESTNUT ST</td>\n",
       "      <td>2014-02-05 12:27:27</td>\n",
       "      <td>ELE-ELECTRICAL WITH PLANS</td>\n",
       "      <td>INSTALL A NEW 400AMP PANEL MAIN BREAKER, RECEP...</td>\n",
       "    </tr>\n",
       "    <tr>\n",
       "      <th>56128</th>\n",
       "      <td>707 CHESTNUT ST</td>\n",
       "      <td>2014-03-06 12:25:27</td>\n",
       "      <td>Z/U/S-ACCESSORY SIGNS</td>\n",
       "      <td>PERMIT FOR INSTALLED SIGN AS PER PLAN AND ZONI...</td>\n",
       "    </tr>\n",
       "    <tr>\n",
       "      <th>56088</th>\n",
       "      <td>707 CHESTNUT ST</td>\n",
       "      <td>2016-12-16 12:55:14</td>\n",
       "      <td>USE-USE CHANGE FOR PARTOF BLDG</td>\n",
       "      <td>TO USE 2ND FLOOR AND PARTIAL 3RD FLOOR AS FITNISS</td>\n",
       "    </tr>\n",
       "    <tr>\n",
       "      <th>56087</th>\n",
       "      <td>707 CHESTNUT ST</td>\n",
       "      <td>2017-01-03 13:44:16</td>\n",
       "      <td>USE-USE CHANGE FOR PARTOF BLDG</td>\n",
       "      <td>FOR A ASSEMBLY AND ENTERTAINMENT AT SECOND FLO...</td>\n",
       "    </tr>\n",
       "    <tr>\n",
       "      <th>56089</th>\n",
       "      <td>707 CHESTNUT ST</td>\n",
       "      <td>2017-03-21 09:06:13</td>\n",
       "      <td>ALT-MAJOR ALTERATION</td>\n",
       "      <td>FOR LEVEL II ALTERATIONS TO THE SECOND AND THI...</td>\n",
       "    </tr>\n",
       "    <tr>\n",
       "      <th>56958</th>\n",
       "      <td>707 CHESTNUT ST</td>\n",
       "      <td>2017-05-02 10:32:46</td>\n",
       "      <td>MEC-EQUIPMENT/APPLIANCE INSTAL</td>\n",
       "      <td>EZ PERMIT DUCTWORK &amp; WARM-AIR APPLIANCES- FOR ...</td>\n",
       "    </tr>\n",
       "    <tr>\n",
       "      <th>56931</th>\n",
       "      <td>707 CHESTNUT ST</td>\n",
       "      <td>2017-06-02 14:03:43</td>\n",
       "      <td>PLU-PLUMBING WITH PLANS</td>\n",
       "      <td>ALTERATIONS:INTERIOR PLUMBING; SECOND FLOOR; F...</td>\n",
       "    </tr>\n",
       "    <tr>\n",
       "      <th>56959</th>\n",
       "      <td>707 CHESTNUT ST</td>\n",
       "      <td>2017-06-06 12:43:47</td>\n",
       "      <td>ELE-ELECTRICAL WITH PLANS</td>\n",
       "      <td>INSTALL 80 LIGHT FIXURES, RELOCATE OUTLETS AND...</td>\n",
       "    </tr>\n",
       "    <tr>\n",
       "      <th>56930</th>\n",
       "      <td>707 CHESTNUT ST</td>\n",
       "      <td>2017-07-10 11:02:11</td>\n",
       "      <td>FSP-RELOCATION OF HEADS</td>\n",
       "      <td>ADD/RELOCATE 5 HEADS.</td>\n",
       "    </tr>\n",
       "  </tbody>\n",
       "</table>\n",
       "</div>"
      ],
      "text/plain": [
       "                 address      permitissuedate                permit_type_name  \\\n",
       "55778    707 CHESTNUT ST  2007-01-09 11:41:09       ELE-ELECTRICAL WITH PLANS   \n",
       "56127    707 CHESTNUT ST  2007-01-22 14:01:13               ELE-EZ ELECTRICAL   \n",
       "56125    707 CHESTNUT ST  2007-01-23 14:05:33               ELE-EZ ELECTRICAL   \n",
       "56124    707 CHESTNUT ST  2007-01-29 08:37:17  ADM-AMENDMENTS & REVISED PLANS   \n",
       "56123    707 CHESTNUT ST  2007-02-05 09:31:04  FSP-KITCHEN HOODS (EXTINGUISH)   \n",
       "56121    707 CHESTNUT ST  2007-03-29 13:01:52               ELE-EZ ELECTRICAL   \n",
       "56122    707 CHESTNUT ST  2007-03-29 15:12:39                MEC-KITCHEN HOOD   \n",
       "55808    707 CHESTNUT ST  2008-10-10 15:19:24            ALT-MAJOR ALTERATION   \n",
       "55807    707 CHESTNUT ST  2008-11-05 13:11:01                 PLU-EZ PLUMBING   \n",
       "55806    707 CHESTNUT ST  2008-12-18 12:09:28               ELE-EZ ELECTRICAL   \n",
       "55804    707 CHESTNUT ST  2009-02-13 06:53:07                             NaN   \n",
       "55805    707 CHESTNUT ST  2009-02-26 09:22:07           Z/U/S-ACCESSORY SIGNS   \n",
       "399625  1707 CHESTNUT ST  2010-09-14 10:59:26                 ZON-ERECT FENCE   \n",
       "399624  1707 CHESTNUT ST  2010-09-28 12:21:18            ALT-MAJOR ALTERATION   \n",
       "399623  1707 CHESTNUT ST  2010-12-13 09:57:03               ELE-EZ ELECTRICAL   \n",
       "56156    707 CHESTNUT ST  2013-10-02 11:57:44            ALT-MAJOR ALTERATION   \n",
       "56155    707 CHESTNUT ST  2013-10-11 14:09:23                 PLU-EZ PLUMBING   \n",
       "56154    707 CHESTNUT ST  2013-10-29 09:18:07       ELE-ELECTRICAL WITH PLANS   \n",
       "56130    707 CHESTNUT ST  2013-12-12 09:27:41            ALT-MAJOR ALTERATION   \n",
       "56153    707 CHESTNUT ST  2014-01-13 15:25:44  ADM-AMENDMENTS & REVISED PLANS   \n",
       "56129    707 CHESTNUT ST  2014-01-31 08:25:13           Z/U/S-ACCESSORY SIGNS   \n",
       "56126    707 CHESTNUT ST  2014-02-05 12:27:27       ELE-ELECTRICAL WITH PLANS   \n",
       "56128    707 CHESTNUT ST  2014-03-06 12:25:27           Z/U/S-ACCESSORY SIGNS   \n",
       "56088    707 CHESTNUT ST  2016-12-16 12:55:14  USE-USE CHANGE FOR PARTOF BLDG   \n",
       "56087    707 CHESTNUT ST  2017-01-03 13:44:16  USE-USE CHANGE FOR PARTOF BLDG   \n",
       "56089    707 CHESTNUT ST  2017-03-21 09:06:13            ALT-MAJOR ALTERATION   \n",
       "56958    707 CHESTNUT ST  2017-05-02 10:32:46  MEC-EQUIPMENT/APPLIANCE INSTAL   \n",
       "56931    707 CHESTNUT ST  2017-06-02 14:03:43         PLU-PLUMBING WITH PLANS   \n",
       "56959    707 CHESTNUT ST  2017-06-06 12:43:47       ELE-ELECTRICAL WITH PLANS   \n",
       "56930    707 CHESTNUT ST  2017-07-10 11:02:11         FSP-RELOCATION OF HEADS   \n",
       "\n",
       "                                        descriptionofwork  \n",
       "55778            THROUGHOUT INSTALL NEW FIRE ALARM SYSTEM  \n",
       "56127   SECURITY SYSTEM TO BE INSTALLED, ACCESS SYSTEM...  \n",
       "56125   INSTALL VOICE/DATA CAT5 - 4 IN  BASEMENT & 3 O...  \n",
       "56124                    AMEND PERMIT 186988 AS PER PLANS  \n",
       "56123                INSTALL ANSUL R-102 -  9 GAL. SYSTEM  \n",
       "56121   MOUNTING OF SYSTEM EQUIPMENT TO EXISTING WIRIN...  \n",
       "56122                                   HOOD AND DUCTWORK  \n",
       "55808   RENOVATIONS TO BASEMENT AND FIRST FLOOR ONLY. ...  \n",
       "55807   NEW 3 HAND SINKS, 5 INDIRECT WASTE, 3 FLOOR DR...  \n",
       "55806   RELOCATE RECEPTS TO NEW WALL WITH EXISTING CIR...  \n",
       "55804                                                 NaN  \n",
       "55805   INSTALL (1) SET OF CHANNEL LETTERS.  INSTALL (...  \n",
       "399625  EXISTING GATES ARE BEING RELOCATED FROM A RECE...  \n",
       "399624  CIVIL SITE WORK, INSTALL NEW FENCES & NEW FOOT...  \n",
       "399623  REPLACE EXISTING OUTDOOR LIGHING OWNER(CCD) FU...  \n",
       "56156   NO CHANGE IN USE AND OCCUPANCY. DEMOLITION TO ...  \n",
       "56155     INSTALL 2-HAND SINKS & FLOOR SINKS (RESTAURANT)  \n",
       "56154   INSTALL A NEW 200AMP ELECTRICAL SERVICE, 3P MA...  \n",
       "56130   EXTERIOR RENOVATIONS TO THE FRONT FACADE OF TH...  \n",
       "56153   FOR THE ISSUANCE OF A CERTIFICATE OF OCCUPANCY...  \n",
       "56129   FOR THE ERECTION OF ONE FLAT WALL  SIGN AND IN...  \n",
       "56126   INSTALL A NEW 400AMP PANEL MAIN BREAKER, RECEP...  \n",
       "56128   PERMIT FOR INSTALLED SIGN AS PER PLAN AND ZONI...  \n",
       "56088   TO USE 2ND FLOOR AND PARTIAL 3RD FLOOR AS FITNISS  \n",
       "56087   FOR A ASSEMBLY AND ENTERTAINMENT AT SECOND FLO...  \n",
       "56089   FOR LEVEL II ALTERATIONS TO THE SECOND AND THI...  \n",
       "56958   EZ PERMIT DUCTWORK & WARM-AIR APPLIANCES- FOR ...  \n",
       "56931   ALTERATIONS:INTERIOR PLUMBING; SECOND FLOOR; F...  \n",
       "56959   INSTALL 80 LIGHT FIXURES, RELOCATE OUTLETS AND...  \n",
       "56930                               ADD/RELOCATE 5 HEADS.  "
      ]
     },
     "execution_count": 78,
     "metadata": {},
     "output_type": "execute_result"
    }
   ],
   "source": [
    "#df.loc[df['status'] == 'ACTIVE'][['permit_type_name','descriptionofwork','contractorname']].head(40)\n",
    "df[df['address'].str.contains('707 CHESTNUT ST',na=False)][['address','permitissuedate','permit_type_name','descriptionofwork']].sort_values('permitissuedate')"
   ]
  },
  {
   "cell_type": "code",
   "execution_count": 73,
   "metadata": {
    "collapsed": false
   },
   "outputs": [
    {
     "data": {
      "text/html": [
       "<div>\n",
       "<table border=\"1\" class=\"dataframe\">\n",
       "  <thead>\n",
       "    <tr style=\"text-align: right;\">\n",
       "      <th></th>\n",
       "      <th>address</th>\n",
       "      <th>permitissuedate</th>\n",
       "      <th>permit_type_name</th>\n",
       "      <th>descriptionofwork</th>\n",
       "    </tr>\n",
       "  </thead>\n",
       "  <tbody>\n",
       "  </tbody>\n",
       "</table>\n",
       "</div>"
      ],
      "text/plain": [
       "Empty DataFrame\n",
       "Columns: [address, permitissuedate, permit_type_name, descriptionofwork]\n",
       "Index: []"
      ]
     },
     "execution_count": 73,
     "metadata": {},
     "output_type": "execute_result"
    }
   ],
   "source": [
    "#all permits for the Penn Wynne Apartments\n",
    "df[df['address'] == '2201 BRYN MAWR AVE'][['address','permitissuedate','permit_type_name','descriptionofwork']].sort_values('permitissuedate')"
   ]
  },
  {
   "cell_type": "code",
   "execution_count": null,
   "metadata": {
    "collapsed": true
   },
   "outputs": [],
   "source": []
  }
 ],
 "metadata": {
  "anaconda-cloud": {},
  "kernelspec": {
   "display_name": "Python [default]",
   "language": "python",
   "name": "python2"
  },
  "language_info": {
   "codemirror_mode": {
    "name": "ipython",
    "version": 2
   },
   "file_extension": ".py",
   "mimetype": "text/x-python",
   "name": "python",
   "nbconvert_exporter": "python",
   "pygments_lexer": "ipython2",
   "version": "2.7.12"
  }
 },
 "nbformat": 4,
 "nbformat_minor": 1
}
