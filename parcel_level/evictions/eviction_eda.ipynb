{
 "cells": [
  {
   "cell_type": "code",
   "execution_count": 1,
   "metadata": {
    "collapsed": false
   },
   "outputs": [],
   "source": [
    "import re, json, csv\n",
    "import numpy as np\n",
    "import sys, os\n",
    "import pandas as pd\n",
    "import googlemaps\n",
    "\n",
    "import matplotlib as mplib\n",
    "import matplotlib.pyplot as plt # visualization package\n",
    "import seaborn as sns\n",
    "import geopandas as gpd"
   ]
  },
  {
   "cell_type": "code",
   "execution_count": 2,
   "metadata": {
    "collapsed": true
   },
   "outputs": [],
   "source": [
    "from shapely.geometry import Point"
   ]
  },
  {
   "cell_type": "code",
   "execution_count": 3,
   "metadata": {
    "collapsed": true
   },
   "outputs": [],
   "source": [
    "% matplotlib inline"
   ]
  },
  {
   "cell_type": "code",
   "execution_count": 4,
   "metadata": {
    "collapsed": false
   },
   "outputs": [],
   "source": [
    "t = pd.read_csv('summary-table.txt',nrows=1)\n",
    "#t.iloc[0]"
   ]
  },
  {
   "cell_type": "code",
   "execution_count": 4,
   "metadata": {
    "collapsed": false
   },
   "outputs": [
    {
     "data": {
      "text/plain": [
       "id             LT-07-04-13-4943\n",
       "year                       2007\n",
       "month                         4\n",
       "a                             f\n",
       "b                             f\n",
       "c                             f\n",
       "a_only                        f\n",
       "b_only                        f\n",
       "c_only                        f\n",
       "latitude                40.0057\n",
       "longitude              -75.1851\n",
       "gender                     male\n",
       "census       14000US42101017000\n",
       "Name: 0, dtype: object"
      ]
     },
     "execution_count": 4,
     "metadata": {},
     "output_type": "execute_result"
    }
   ],
   "source": [
    "eviction_file = 'summary-table.txt'\n",
    "df_summary = pd.read_csv(eviction_file,usecols=['id','year','month','latitude','longitude','gender','census','a','b','c','a_only','b_only','c_only'])\n",
    "df_summary.iloc[0]"
   ]
  },
  {
   "cell_type": "code",
   "execution_count": 5,
   "metadata": {
    "collapsed": false
   },
   "outputs": [],
   "source": [
    "df = df_summary.loc[df_summary['year'] > 2011].loc[df_summary['year'] < 2016]\n",
    "df['geometry'] = [Point(x['longitude'],x['latitude']) for i,x in df.iterrows()]\n",
    "gdf = gpd.GeoDataFrame(df)"
   ]
  },
  {
   "cell_type": "code",
   "execution_count": 6,
   "metadata": {
    "collapsed": false
   },
   "outputs": [
    {
     "data": {
      "text/html": [
       "<div>\n",
       "<table border=\"1\" class=\"dataframe\">\n",
       "  <thead>\n",
       "    <tr style=\"text-align: right;\">\n",
       "      <th></th>\n",
       "      <th>id</th>\n",
       "      <th>year</th>\n",
       "      <th>month</th>\n",
       "      <th>a</th>\n",
       "      <th>b</th>\n",
       "      <th>c</th>\n",
       "      <th>a_only</th>\n",
       "      <th>b_only</th>\n",
       "      <th>c_only</th>\n",
       "      <th>gender</th>\n",
       "      <th>census</th>\n",
       "      <th>geometry</th>\n",
       "    </tr>\n",
       "  </thead>\n",
       "  <tbody>\n",
       "    <tr>\n",
       "      <th>46</th>\n",
       "      <td>LT-14-04-14-4277</td>\n",
       "      <td>2014.0</td>\n",
       "      <td>4.0</td>\n",
       "      <td>f</td>\n",
       "      <td>f</td>\n",
       "      <td>t</td>\n",
       "      <td>f</td>\n",
       "      <td>f</td>\n",
       "      <td>t</td>\n",
       "      <td>female</td>\n",
       "      <td>14000US42101001800</td>\n",
       "      <td>POINT (-75.15936500000001 39.93972700000001)</td>\n",
       "    </tr>\n",
       "    <tr>\n",
       "      <th>50</th>\n",
       "      <td>LT-12-04-16-4455</td>\n",
       "      <td>2012.0</td>\n",
       "      <td>4.0</td>\n",
       "      <td>f</td>\n",
       "      <td>f</td>\n",
       "      <td>t</td>\n",
       "      <td>f</td>\n",
       "      <td>f</td>\n",
       "      <td>t</td>\n",
       "      <td>female</td>\n",
       "      <td>14000US42101003600</td>\n",
       "      <td>POINT (-75.191253 39.925259)</td>\n",
       "    </tr>\n",
       "  </tbody>\n",
       "</table>\n",
       "</div>"
      ],
      "text/plain": [
       "                  id    year  month  a  b  c a_only b_only c_only  gender  \\\n",
       "46  LT-14-04-14-4277  2014.0    4.0  f  f  t      f      f      t  female   \n",
       "50  LT-12-04-16-4455  2012.0    4.0  f  f  t      f      f      t  female   \n",
       "\n",
       "                census                                      geometry  \n",
       "46  14000US42101001800  POINT (-75.15936500000001 39.93972700000001)  \n",
       "50  14000US42101003600                  POINT (-75.191253 39.925259)  "
      ]
     },
     "execution_count": 6,
     "metadata": {},
     "output_type": "execute_result"
    }
   ],
   "source": [
    "gdf = gdf.drop(gdf[['latitude','longitude']],axis=1)\n",
    "gdf.head(2)"
   ]
  },
  {
   "cell_type": "code",
   "execution_count": 62,
   "metadata": {
    "collapsed": false
   },
   "outputs": [
    {
     "data": {
      "text/plain": [
       "0.006656505645587732"
      ]
     },
     "execution_count": 62,
     "metadata": {},
     "output_type": "execute_result"
    }
   ],
   "source": [
    "len(df.loc[df['latitude'].isnull()]) / float(len(df))"
   ]
  },
  {
   "cell_type": "markdown",
   "metadata": {},
   "source": [
    "# Locating in Council Districts"
   ]
  },
  {
   "cell_type": "code",
   "execution_count": 7,
   "metadata": {
    "collapsed": false
   },
   "outputs": [
    {
     "data": {
      "text/html": [
       "<div>\n",
       "<table border=\"1\" class=\"dataframe\">\n",
       "  <thead>\n",
       "    <tr style=\"text-align: right;\">\n",
       "      <th></th>\n",
       "      <th>OBJECTID</th>\n",
       "      <th>ID</th>\n",
       "      <th>DISTRICT</th>\n",
       "      <th>geometry</th>\n",
       "    </tr>\n",
       "  </thead>\n",
       "  <tbody>\n",
       "    <tr>\n",
       "      <th>0</th>\n",
       "      <td>1</td>\n",
       "      <td>0</td>\n",
       "      <td>1</td>\n",
       "      <td>POLYGON ((-75.0932948389698 39.9932300437038, ...</td>\n",
       "    </tr>\n",
       "    <tr>\n",
       "      <th>1</th>\n",
       "      <td>2</td>\n",
       "      <td>0</td>\n",
       "      <td>2</td>\n",
       "      <td>POLYGON ((-75.17407568314729 39.9493998139779,...</td>\n",
       "    </tr>\n",
       "    <tr>\n",
       "      <th>2</th>\n",
       "      <td>3</td>\n",
       "      <td>0</td>\n",
       "      <td>3</td>\n",
       "      <td>POLYGON ((-75.2206447317877 39.974366639923, -...</td>\n",
       "    </tr>\n",
       "    <tr>\n",
       "      <th>3</th>\n",
       "      <td>4</td>\n",
       "      <td>0</td>\n",
       "      <td>4</td>\n",
       "      <td>POLYGON ((-75.2305583949276 40.0827205113823, ...</td>\n",
       "    </tr>\n",
       "    <tr>\n",
       "      <th>4</th>\n",
       "      <td>5</td>\n",
       "      <td>0</td>\n",
       "      <td>6</td>\n",
       "      <td>POLYGON ((-75.0938330043444 39.9743827206332, ...</td>\n",
       "    </tr>\n",
       "  </tbody>\n",
       "</table>\n",
       "</div>"
      ],
      "text/plain": [
       "   OBJECTID  ID DISTRICT                                           geometry\n",
       "0         1   0        1  POLYGON ((-75.0932948389698 39.9932300437038, ...\n",
       "1         2   0        2  POLYGON ((-75.17407568314729 39.9493998139779,...\n",
       "2         3   0        3  POLYGON ((-75.2206447317877 39.974366639923, -...\n",
       "3         4   0        4  POLYGON ((-75.2305583949276 40.0827205113823, ...\n",
       "4         5   0        6  POLYGON ((-75.0938330043444 39.9743827206332, ..."
      ]
     },
     "execution_count": 7,
     "metadata": {},
     "output_type": "execute_result"
    }
   ],
   "source": [
    "dists = gpd.read_file('../../geodata/council_districts/Council_Districts_2016.shp')\n",
    "dists.head()"
   ]
  },
  {
   "cell_type": "code",
   "execution_count": 8,
   "metadata": {
    "collapsed": false
   },
   "outputs": [
    {
     "name": "stdout",
     "output_type": "stream",
     "text": [
      "Warning: CRS does not match!\n"
     ]
    }
   ],
   "source": [
    "gdf_dists = gpd.sjoin(gdf,dists,how='left',op='within')"
   ]
  },
  {
   "cell_type": "code",
   "execution_count": 9,
   "metadata": {
    "collapsed": false
   },
   "outputs": [],
   "source": [
    "gdf_dists = gdf_dists.drop(gdf_dists[['index_right','OBJECTID','ID']],axis=1)"
   ]
  },
  {
   "cell_type": "code",
   "execution_count": 124,
   "metadata": {
    "collapsed": false
   },
   "outputs": [
    {
     "data": {
      "text/plain": [
       "<matplotlib.axes._subplots.AxesSubplot at 0x25972a58>"
      ]
     },
     "execution_count": 124,
     "metadata": {},
     "output_type": "execute_result"
    },
    {
     "data": {
      "image/png": "[encoded data removed]",
      "text/plain": [
       "<matplotlib.figure.Figure at 0x257ed320>"
      ]
     },
     "metadata": {},
     "output_type": "display_data"
    }
   ],
   "source": [
    "sns.countplot(x='year',data=df_summary.loc[df_summary['year']>2008].loc[df_summary['year']<2017])"
   ]
  },
  {
   "cell_type": "code",
   "execution_count": 96,
   "metadata": {
    "collapsed": false
   },
   "outputs": [
    {
     "data": {
      "text/plain": [
       "[<matplotlib.text.Text at 0x1d051128>,\n",
       " <matplotlib.text.Text at 0x129a7240>,\n",
       " <matplotlib.text.Text at 0x1d07f0f0>]"
      ]
     },
     "execution_count": 96,
     "metadata": {},
     "output_type": "execute_result"
    },
    {
     "data": {
      "image/png": "[encoded data removed]",
      "text/plain": [
       "<matplotlib.figure.Figure at 0x1316bf98>"
      ]
     },
     "metadata": {},
     "output_type": "display_data"
    }
   ],
   "source": [
    "sns.set_style(\"whitegrid\")\n",
    "ax = sns.countplot(x='DISTRICT',data=gdf_dists, palette='Greens_d',order=[str(x) for x in (range(1,11))])\n",
    "ax.set(xlabel='Council District', ylabel='Eviction Filings',title='Eviction Filings Since 2015 by District')"
   ]
  },
  {
   "cell_type": "code",
   "execution_count": 62,
   "metadata": {
    "collapsed": false
   },
   "outputs": [
    {
     "data": {
      "text/plain": [
       "[<matplotlib.text.Text at 0x208359b0>,\n",
       " <matplotlib.text.Text at 0x20051eb8>,\n",
       " <matplotlib.text.Text at 0x1f722dd8>]"
      ]
     },
     "execution_count": 62,
     "metadata": {},
     "output_type": "execute_result"
    },
    {
     "data": {
      "image/png": "[encoded data removed]",
      "text/plain": [
       "<matplotlib.figure.Figure at 0x29985d30>"
      ]
     },
     "metadata": {},
     "output_type": "display_data"
    }
   ],
   "source": [
    "sns.set_style(\"whitegrid\")\n",
    "plt.figure(figsize=(6.5,4))\n",
    "ax = sns.countplot(x='DISTRICT',hue='gender',data=gdf_dists,\n",
    "                   palette=\"muted\",order=[str(x) for x in (range(1,11))])\n",
    "ax.set(xlabel='Council District', ylabel='Eviction Filings',title='Eviction Filings Since 2015 by District and Gender')"
   ]
  },
  {
   "cell_type": "code",
   "execution_count": 52,
   "metadata": {
    "collapsed": false
   },
   "outputs": [
    {
     "name": "stdout",
     "output_type": "stream",
     "text": [
      "female:36556\n",
      "male:20185\n",
      "ratio: 1.81104780778 : 1\n"
     ]
    }
   ],
   "source": [
    "dist = gdf_dists.loc[gdf_dists['']]\n",
    "f = len(df.loc[df['gender'] == 'female'])\n",
    "m = len(df.loc[df['gender'] == 'male'])\n",
    "print \"female:\" + str(f)\n",
    "print \"male:\" + str(m)\n",
    "print \"ratio: \" + str(float(f)/m) + \" : 1\""
   ]
  },
  {
   "cell_type": "code",
   "execution_count": 63,
   "metadata": {
    "collapsed": false
   },
   "outputs": [],
   "source": [
    "annual = pd.DataFrame(df_summary['year'].value_counts(sort=False))\n",
    "annual = annual.loc[annual.index > 2003]"
   ]
  },
  {
   "cell_type": "code",
   "execution_count": 64,
   "metadata": {
    "collapsed": false
   },
   "outputs": [],
   "source": [
    "annual['count'] = annual['year']\n",
    "annual['year']=annual.index\n",
    "annual = annual.loc[annual['year'] < 2017]"
   ]
  },
  {
   "cell_type": "code",
   "execution_count": 69,
   "metadata": {
    "collapsed": false
   },
   "outputs": [
    {
     "data": {
      "text/plain": [
       "<matplotlib.axes._subplots.AxesSubplot at 0x18cb8208>"
      ]
     },
     "execution_count": 69,
     "metadata": {},
     "output_type": "execute_result"
    },
    {
     "data": {
      "image/png": "[encoded data removed]",
      "text/plain": [
       "<matplotlib.figure.Figure at 0x16523160>"
      ]
     },
     "metadata": {},
     "output_type": "display_data"
    }
   ],
   "source": [
    "annual.plot(y='count',color='green',legend=False,title='Annual Eviction Filings 2004-2016')"
   ]
  },
  {
   "cell_type": "code",
   "execution_count": 73,
   "metadata": {
    "collapsed": false
   },
   "outputs": [],
   "source": [
    "annual['nocause'] = df_summary.loc[df_summary['b_only'] == 't']['year'].value_counts(sort=False)"
   ]
  },
  {
   "cell_type": "code",
   "execution_count": 76,
   "metadata": {
    "collapsed": false
   },
   "outputs": [
    {
     "data": {
      "text/plain": [
       "<matplotlib.axes._subplots.AxesSubplot at 0x168f67b8>"
      ]
     },
     "execution_count": 76,
     "metadata": {},
     "output_type": "execute_result"
    },
    {
     "data": {
      "image/png": "[encoded data removed]",
      "text/plain": [
       "<matplotlib.figure.Figure at 0x168c94a8>"
      ]
     },
     "metadata": {},
     "output_type": "display_data"
    }
   ],
   "source": [
    "annual.plot(y='nocause',color='green',legend=False,title='Annual No Cause Eviction Filings 2004-2016')"
   ]
  },
  {
   "cell_type": "code",
   "execution_count": null,
   "metadata": {
    "collapsed": true
   },
   "outputs": [],
   "source": []
  },
  {
   "cell_type": "code",
   "execution_count": null,
   "metadata": {
    "collapsed": true
   },
   "outputs": [],
   "source": []
  },
  {
   "cell_type": "markdown",
   "metadata": {},
   "source": [
    "# Locating in Census Tracts...."
   ]
  },
  {
   "cell_type": "code",
   "execution_count": 10,
   "metadata": {
    "collapsed": false
   },
   "outputs": [
    {
     "data": {
      "text/html": [
       "<div>\n",
       "<table border=\"1\" class=\"dataframe\">\n",
       "  <thead>\n",
       "    <tr style=\"text-align: right;\">\n",
       "      <th></th>\n",
       "      <th>OBJECTID</th>\n",
       "      <th>STATEFP10</th>\n",
       "      <th>COUNTYFP10</th>\n",
       "      <th>TRACTCE10</th>\n",
       "      <th>GEOID10</th>\n",
       "      <th>NAME10</th>\n",
       "      <th>NAMELSAD10</th>\n",
       "      <th>MTFCC10</th>\n",
       "      <th>FUNCSTAT10</th>\n",
       "      <th>ALAND10</th>\n",
       "      <th>AWATER10</th>\n",
       "      <th>INTPTLAT10</th>\n",
       "      <th>INTPTLON10</th>\n",
       "      <th>LOGRECNO</th>\n",
       "      <th>geometry</th>\n",
       "    </tr>\n",
       "  </thead>\n",
       "  <tbody>\n",
       "    <tr>\n",
       "      <th>0</th>\n",
       "      <td>1</td>\n",
       "      <td>42</td>\n",
       "      <td>101</td>\n",
       "      <td>009400</td>\n",
       "      <td>42101009400</td>\n",
       "      <td>94</td>\n",
       "      <td>Census Tract 94</td>\n",
       "      <td>G5020</td>\n",
       "      <td>S</td>\n",
       "      <td>366717</td>\n",
       "      <td>0</td>\n",
       "      <td>+39.9632709</td>\n",
       "      <td>-075.2322437</td>\n",
       "      <td>10429</td>\n",
       "      <td>POLYGON ((-75.22926522780659 39.9605446656843,...</td>\n",
       "    </tr>\n",
       "    <tr>\n",
       "      <th>1</th>\n",
       "      <td>2</td>\n",
       "      <td>42</td>\n",
       "      <td>101</td>\n",
       "      <td>009500</td>\n",
       "      <td>42101009500</td>\n",
       "      <td>95</td>\n",
       "      <td>Census Tract 95</td>\n",
       "      <td>G5020</td>\n",
       "      <td>S</td>\n",
       "      <td>319070</td>\n",
       "      <td>0</td>\n",
       "      <td>+39.9658709</td>\n",
       "      <td>-075.2379140</td>\n",
       "      <td>10430</td>\n",
       "      <td>POLYGON ((-75.2353591940378 39.9685190282368, ...</td>\n",
       "    </tr>\n",
       "  </tbody>\n",
       "</table>\n",
       "</div>"
      ],
      "text/plain": [
       "   OBJECTID STATEFP10 COUNTYFP10 TRACTCE10      GEOID10 NAME10  \\\n",
       "0         1        42        101    009400  42101009400     94   \n",
       "1         2        42        101    009500  42101009500     95   \n",
       "\n",
       "        NAMELSAD10 MTFCC10 FUNCSTAT10  ALAND10  AWATER10   INTPTLAT10  \\\n",
       "0  Census Tract 94   G5020          S   366717         0  +39.9632709   \n",
       "1  Census Tract 95   G5020          S   319070         0  +39.9658709   \n",
       "\n",
       "     INTPTLON10 LOGRECNO                                           geometry  \n",
       "0  -075.2322437    10429  POLYGON ((-75.22926522780659 39.9605446656843,...  \n",
       "1  -075.2379140    10430  POLYGON ((-75.2353591940378 39.9685190282368, ...  "
      ]
     },
     "execution_count": 10,
     "metadata": {},
     "output_type": "execute_result"
    }
   ],
   "source": [
    "tracts = gpd.read_file('../../geodata/tracts/Census_Tracts_2010.shp')\n",
    "tracts.head(2)"
   ]
  },
  {
   "cell_type": "code",
   "execution_count": 35,
   "metadata": {
    "collapsed": false
   },
   "outputs": [],
   "source": [
    "gdf['GEOID10'] = gdf['census'].str[7:]"
   ]
  },
  {
   "cell_type": "markdown",
   "metadata": {},
   "source": [
    "# Race Data..."
   ]
  },
  {
   "cell_type": "code",
   "execution_count": 74,
   "metadata": {
    "collapsed": false
   },
   "outputs": [
    {
     "data": {
      "text/html": [
       "<div>\n",
       "<table border=\"1\" class=\"dataframe\">\n",
       "  <thead>\n",
       "    <tr style=\"text-align: right;\">\n",
       "      <th></th>\n",
       "      <th>GEO.id</th>\n",
       "      <th>GEO.id2</th>\n",
       "      <th>GEO.display-label</th>\n",
       "      <th>HD01_VD01</th>\n",
       "      <th>HD02_VD01</th>\n",
       "      <th>HD01_VD02</th>\n",
       "      <th>HD02_VD02</th>\n",
       "      <th>HD01_VD03</th>\n",
       "      <th>HD02_VD03</th>\n",
       "      <th>HD01_VD04</th>\n",
       "      <th>...</th>\n",
       "      <th>HD01_VD06</th>\n",
       "      <th>HD02_VD06</th>\n",
       "      <th>HD01_VD07</th>\n",
       "      <th>HD02_VD07</th>\n",
       "      <th>HD01_VD08</th>\n",
       "      <th>HD02_VD08</th>\n",
       "      <th>HD01_VD09</th>\n",
       "      <th>HD02_VD09</th>\n",
       "      <th>HD01_VD10</th>\n",
       "      <th>HD02_VD10</th>\n",
       "    </tr>\n",
       "  </thead>\n",
       "  <tbody>\n",
       "    <tr>\n",
       "      <th>0</th>\n",
       "      <td>1400000US42101000100</td>\n",
       "      <td>42101000100</td>\n",
       "      <td>Census Tract 1, Philadelphia County, Pennsylvania</td>\n",
       "      <td>3608</td>\n",
       "      <td>389</td>\n",
       "      <td>2807</td>\n",
       "      <td>356</td>\n",
       "      <td>361</td>\n",
       "      <td>116</td>\n",
       "      <td>6</td>\n",
       "      <td>...</td>\n",
       "      <td>0</td>\n",
       "      <td>10</td>\n",
       "      <td>27</td>\n",
       "      <td>43</td>\n",
       "      <td>90</td>\n",
       "      <td>53</td>\n",
       "      <td>20</td>\n",
       "      <td>31</td>\n",
       "      <td>70</td>\n",
       "      <td>58</td>\n",
       "    </tr>\n",
       "    <tr>\n",
       "      <th>1</th>\n",
       "      <td>1400000US42101000200</td>\n",
       "      <td>42101000200</td>\n",
       "      <td>Census Tract 2, Philadelphia County, Pennsylvania</td>\n",
       "      <td>2331</td>\n",
       "      <td>381</td>\n",
       "      <td>911</td>\n",
       "      <td>225</td>\n",
       "      <td>141</td>\n",
       "      <td>82</td>\n",
       "      <td>11</td>\n",
       "      <td>...</td>\n",
       "      <td>0</td>\n",
       "      <td>10</td>\n",
       "      <td>21</td>\n",
       "      <td>33</td>\n",
       "      <td>64</td>\n",
       "      <td>55</td>\n",
       "      <td>11</td>\n",
       "      <td>16</td>\n",
       "      <td>53</td>\n",
       "      <td>54</td>\n",
       "    </tr>\n",
       "  </tbody>\n",
       "</table>\n",
       "<p>2 rows × 23 columns</p>\n",
       "</div>"
      ],
      "text/plain": [
       "                 GEO.id      GEO.id2  \\\n",
       "0  1400000US42101000100  42101000100   \n",
       "1  1400000US42101000200  42101000200   \n",
       "\n",
       "                                   GEO.display-label  HD01_VD01  HD02_VD01  \\\n",
       "0  Census Tract 1, Philadelphia County, Pennsylvania       3608        389   \n",
       "1  Census Tract 2, Philadelphia County, Pennsylvania       2331        381   \n",
       "\n",
       "   HD01_VD02  HD02_VD02  HD01_VD03  HD02_VD03  HD01_VD04    ...      \\\n",
       "0       2807        356        361        116          6    ...       \n",
       "1        911        225        141         82         11    ...       \n",
       "\n",
       "   HD01_VD06  HD02_VD06  HD01_VD07  HD02_VD07  HD01_VD08  HD02_VD08  \\\n",
       "0          0         10         27         43         90         53   \n",
       "1          0         10         21         33         64         55   \n",
       "\n",
       "   HD01_VD09  HD02_VD09  HD01_VD10  HD02_VD10  \n",
       "0         20         31         70         58  \n",
       "1         11         16         53         54  \n",
       "\n",
       "[2 rows x 23 columns]"
      ]
     },
     "execution_count": 74,
     "metadata": {},
     "output_type": "execute_result"
    }
   ],
   "source": [
    "race = pd.read_csv('../../tract_level/race_ACS_15_5YR_B02001_with_ann.csv',skiprows=[1])\n",
    "race.head(2)"
   ]
  },
  {
   "cell_type": "code",
   "execution_count": 35,
   "metadata": {
    "collapsed": false
   },
   "outputs": [
    {
     "data": {
      "text/html": [
       "<div>\n",
       "<table border=\"1\" class=\"dataframe\">\n",
       "  <thead>\n",
       "    <tr style=\"text-align: right;\">\n",
       "      <th></th>\n",
       "      <th>GEO.id</th>\n",
       "      <th>GEO.id2</th>\n",
       "      <th>GEO.display-label</th>\n",
       "      <th>HD01_VD01</th>\n",
       "      <th>HD02_VD01</th>\n",
       "      <th>HD01_VD02</th>\n",
       "      <th>HD02_VD02</th>\n",
       "      <th>HD01_VD03</th>\n",
       "      <th>HD02_VD03</th>\n",
       "      <th>HD01_VD04</th>\n",
       "      <th>...</th>\n",
       "      <th>HD01_VD06</th>\n",
       "      <th>HD02_VD06</th>\n",
       "      <th>HD01_VD07</th>\n",
       "      <th>HD02_VD07</th>\n",
       "      <th>HD01_VD08</th>\n",
       "      <th>HD02_VD08</th>\n",
       "      <th>HD01_VD09</th>\n",
       "      <th>HD02_VD09</th>\n",
       "      <th>HD01_VD10</th>\n",
       "      <th>HD02_VD10</th>\n",
       "    </tr>\n",
       "  </thead>\n",
       "  <tbody>\n",
       "    <tr>\n",
       "      <th>0</th>\n",
       "      <td>Id</td>\n",
       "      <td>Id2</td>\n",
       "      <td>Geography</td>\n",
       "      <td>Estimate; Total:</td>\n",
       "      <td>Margin of Error; Total:</td>\n",
       "      <td>Estimate; Total: - White alone</td>\n",
       "      <td>Margin of Error; Total: - White alone</td>\n",
       "      <td>Estimate; Total: - Black or African American a...</td>\n",
       "      <td>Margin of Error; Total: - Black or African Ame...</td>\n",
       "      <td>Estimate; Total: - American Indian and Alaska ...</td>\n",
       "      <td>...</td>\n",
       "      <td>Estimate; Total: - Native Hawaiian and Other P...</td>\n",
       "      <td>Margin of Error; Total: - Native Hawaiian and ...</td>\n",
       "      <td>Estimate; Total: - Some other race alone</td>\n",
       "      <td>Margin of Error; Total: - Some other race alone</td>\n",
       "      <td>Estimate; Total: - Two or more races:</td>\n",
       "      <td>Margin of Error; Total: - Two or more races:</td>\n",
       "      <td>Estimate; Total: - Two or more races: - Two ra...</td>\n",
       "      <td>Margin of Error; Total: - Two or more races: -...</td>\n",
       "      <td>Estimate; Total: - Two or more races: - Two ra...</td>\n",
       "      <td>Margin of Error; Total: - Two or more races: -...</td>\n",
       "    </tr>\n",
       "    <tr>\n",
       "      <th>1</th>\n",
       "      <td>1400000US42101000100</td>\n",
       "      <td>42101000100</td>\n",
       "      <td>Census Tract 1, Philadelphia County, Pennsylvania</td>\n",
       "      <td>3608</td>\n",
       "      <td>389</td>\n",
       "      <td>2807</td>\n",
       "      <td>356</td>\n",
       "      <td>361</td>\n",
       "      <td>116</td>\n",
       "      <td>6</td>\n",
       "      <td>...</td>\n",
       "      <td>0</td>\n",
       "      <td>10</td>\n",
       "      <td>27</td>\n",
       "      <td>43</td>\n",
       "      <td>90</td>\n",
       "      <td>53</td>\n",
       "      <td>20</td>\n",
       "      <td>31</td>\n",
       "      <td>70</td>\n",
       "      <td>58</td>\n",
       "    </tr>\n",
       "  </tbody>\n",
       "</table>\n",
       "<p>2 rows × 23 columns</p>\n",
       "</div>"
      ],
      "text/plain": [
       "                 GEO.id      GEO.id2  \\\n",
       "0                    Id          Id2   \n",
       "1  1400000US42101000100  42101000100   \n",
       "\n",
       "                                   GEO.display-label         HD01_VD01  \\\n",
       "0                                          Geography  Estimate; Total:   \n",
       "1  Census Tract 1, Philadelphia County, Pennsylvania              3608   \n",
       "\n",
       "                 HD02_VD01                       HD01_VD02  \\\n",
       "0  Margin of Error; Total:  Estimate; Total: - White alone   \n",
       "1                      389                            2807   \n",
       "\n",
       "                               HD02_VD02  \\\n",
       "0  Margin of Error; Total: - White alone   \n",
       "1                                    356   \n",
       "\n",
       "                                           HD01_VD03  \\\n",
       "0  Estimate; Total: - Black or African American a...   \n",
       "1                                                361   \n",
       "\n",
       "                                           HD02_VD03  \\\n",
       "0  Margin of Error; Total: - Black or African Ame...   \n",
       "1                                                116   \n",
       "\n",
       "                                           HD01_VD04  \\\n",
       "0  Estimate; Total: - American Indian and Alaska ...   \n",
       "1                                                  6   \n",
       "\n",
       "                         ...                          \\\n",
       "0                        ...                           \n",
       "1                        ...                           \n",
       "\n",
       "                                           HD01_VD06  \\\n",
       "0  Estimate; Total: - Native Hawaiian and Other P...   \n",
       "1                                                  0   \n",
       "\n",
       "                                           HD02_VD06  \\\n",
       "0  Margin of Error; Total: - Native Hawaiian and ...   \n",
       "1                                                 10   \n",
       "\n",
       "                                  HD01_VD07  \\\n",
       "0  Estimate; Total: - Some other race alone   \n",
       "1                                        27   \n",
       "\n",
       "                                         HD02_VD07  \\\n",
       "0  Margin of Error; Total: - Some other race alone   \n",
       "1                                               43   \n",
       "\n",
       "                               HD01_VD08  \\\n",
       "0  Estimate; Total: - Two or more races:   \n",
       "1                                     90   \n",
       "\n",
       "                                      HD02_VD08  \\\n",
       "0  Margin of Error; Total: - Two or more races:   \n",
       "1                                            53   \n",
       "\n",
       "                                           HD01_VD09  \\\n",
       "0  Estimate; Total: - Two or more races: - Two ra...   \n",
       "1                                                 20   \n",
       "\n",
       "                                           HD02_VD09  \\\n",
       "0  Margin of Error; Total: - Two or more races: -...   \n",
       "1                                                 31   \n",
       "\n",
       "                                           HD01_VD10  \\\n",
       "0  Estimate; Total: - Two or more races: - Two ra...   \n",
       "1                                                 70   \n",
       "\n",
       "                                           HD02_VD10  \n",
       "0  Margin of Error; Total: - Two or more races: -...  \n",
       "1                                                 58  \n",
       "\n",
       "[2 rows x 23 columns]"
      ]
     },
     "execution_count": 35,
     "metadata": {},
     "output_type": "execute_result"
    }
   ],
   "source": [
    "reference_col_race = pd.read_csv('../../tract_level/race_ACS_15_5YR_B02001_with_ann.csv',nrows=2)\n",
    "reference_col_race.head(2)"
   ]
  },
  {
   "cell_type": "code",
   "execution_count": 33,
   "metadata": {
    "collapsed": false
   },
   "outputs": [
    {
     "data": {
      "text/plain": [
       "0.2552083333333333"
      ]
     },
     "execution_count": 33,
     "metadata": {},
     "output_type": "execute_result"
    }
   ],
   "source": [
    "#predominately black tracts, %25.5 of total\n",
    "black = race.loc[pd.to_numeric(race['HD01_VD03']).astype(float) / pd.to_numeric(race['HD01_VD01']) * 100 > 80]"
   ]
  },
  {
   "cell_type": "code",
   "execution_count": 38,
   "metadata": {
    "collapsed": false
   },
   "outputs": [
    {
     "name": "stdout",
     "output_type": "stream",
     "text": [
      "Warning: CRS does not match!\n"
     ]
    }
   ],
   "source": [
    "gdf_dists = gpd.sjoin(gdf,dists,how='left',op='within')"
   ]
  },
  {
   "cell_type": "code",
   "execution_count": 80,
   "metadata": {
    "collapsed": false
   },
   "outputs": [],
   "source": [
    "council_district = 3\n",
    "dist = gdf_dists.loc[gdf_dists['DISTRICT'] == str(council_district)]"
   ]
  },
  {
   "cell_type": "code",
   "execution_count": 75,
   "metadata": {
    "collapsed": true
   },
   "outputs": [],
   "source": [
    "def topRace(row):\n",
    "    #white,black,amerindian,asiam,hawaiian\n",
    "    return {\n",
    "        'HD01_VD02':'White',\n",
    "        'HD01_VD03':'Black',\n",
    "        'HD01_VD04':'American Indian and Alaska Native',\n",
    "        'HD01_VD05':'Asian',\n",
    "        'HD01_VD06':'Native Hawaiian and Pacific Islander'\n",
    "    }[row]"
   ]
  },
  {
   "cell_type": "code",
   "execution_count": 76,
   "metadata": {
    "collapsed": false
   },
   "outputs": [
    {
     "data": {
      "text/plain": [
       "White    203\n",
       "Black    179\n",
       "Asian      2\n",
       "Name: max_race, dtype: int64"
      ]
     },
     "execution_count": 76,
     "metadata": {},
     "output_type": "execute_result"
    }
   ],
   "source": [
    "race['max_race_code'] = race[['HD01_VD02','HD01_VD03','HD01_VD04','HD01_VD05','HD01_VD06']].idxmax(axis=1)\n",
    "race['max_race'] = race['max_race_code'].apply(topRace)\n",
    "race['max_race'].value_counts()"
   ]
  },
  {
   "cell_type": "code",
   "execution_count": 77,
   "metadata": {
    "collapsed": false
   },
   "outputs": [],
   "source": [
    "race['GEOID10'] = race['GEO.id2'].astype(str)"
   ]
  },
  {
   "cell_type": "code",
   "execution_count": 78,
   "metadata": {
    "collapsed": false
   },
   "outputs": [],
   "source": [
    "dist = pd.merge(gdf_dists[['id','GEOID10','year','DISTRICT']],race[['GEOID10','max_race']],on='GEOID10',how='left')"
   ]
  },
  {
   "cell_type": "code",
   "execution_count": 79,
   "metadata": {
    "collapsed": true
   },
   "outputs": [],
   "source": [
    "dist['Race'] = dist['max_race']"
   ]
  },
  {
   "cell_type": "code",
   "execution_count": 91,
   "metadata": {
    "collapsed": false
   },
   "outputs": [
    {
     "data": {
      "text/plain": [
       "[<matplotlib.text.Text at 0x2c03dc50>,\n",
       " <matplotlib.text.Text at 0x2bc5b400>,\n",
       " <matplotlib.text.Text at 0x2bef84e0>]"
      ]
     },
     "execution_count": 91,
     "metadata": {},
     "output_type": "execute_result"
    },
    {
     "data": {
      "image/png": "[encoded data removed]",
      "text/plain": [
       "<matplotlib.figure.Figure at 0x2ac3ae80>"
      ]
     },
     "metadata": {},
     "output_type": "display_data"
    }
   ],
   "source": [
    "sns.set_style(\"whitegrid\")\n",
    "#plt.figure(figsize=(6.5,4))\n",
    "flatui = [sns.xkcd_rgb[\"denim blue\"],sns.xkcd_rgb[\"tangerine\"],sns.xkcd_rgb[\"orchid\"]]\n",
    "ax = sns.countplot(x='DISTRICT',hue='Race',data=dist,\n",
    "                   palette=flatui,order=[str(x) for x in (range(1,11))])\n",
    "ax.set(xlabel='Council District', ylabel='Eviction Filings',title='Eviction Filings 2011-2015 by Predominant Race in Tract')"
   ]
  },
  {
   "cell_type": "markdown",
   "metadata": {},
   "source": [
    "# Income..."
   ]
  },
  {
   "cell_type": "code",
   "execution_count": 55,
   "metadata": {
    "collapsed": true
   },
   "outputs": [],
   "source": [
    "def classifyPoverty(pct):\n",
    "    try:\n",
    "        if float(pct) > 20:\n",
    "            return '20% Poverty or more'\n",
    "        else:\n",
    "            return 'Less than 20% Poverty'\n",
    "    except ValueError:\n",
    "        return 'ND'"
   ]
  },
  {
   "cell_type": "code",
   "execution_count": 56,
   "metadata": {
    "collapsed": false
   },
   "outputs": [],
   "source": [
    "poverty = pd.read_csv('../../tract_level/ACS_15_5YR_S1701_with_ann.csv',skiprows=[1])\n",
    "poverty['Poverty'] = poverty['HC03_EST_VC01'].apply(classifyPoverty)"
   ]
  },
  {
   "cell_type": "code",
   "execution_count": 54,
   "metadata": {
    "collapsed": false
   },
   "outputs": [
    {
     "data": {
      "text/plain": [
       "65"
      ]
     },
     "execution_count": 54,
     "metadata": {},
     "output_type": "execute_result"
    }
   ],
   "source": [
    "len(poverty.loc[poverty['Poverty'] == '>10% Poverty'])"
   ]
  },
  {
   "cell_type": "code",
   "execution_count": 57,
   "metadata": {
    "collapsed": false
   },
   "outputs": [],
   "source": [
    "gdf_dists['GEOID10'] = gdf_dists['census'].str[7:]\n",
    "poverty['GEOID10'] = poverty['GEO.id2'].astype(str)\n",
    "dist = pd.merge(gdf_dists[['id','GEOID10','year','DISTRICT']],poverty[['GEOID10','Poverty']],on='GEOID10',how='left')"
   ]
  },
  {
   "cell_type": "code",
   "execution_count": 63,
   "metadata": {
    "collapsed": false
   },
   "outputs": [],
   "source": [
    "dist = dist.loc[dist['Poverty'] != 'ND']"
   ]
  },
  {
   "cell_type": "code",
   "execution_count": 73,
   "metadata": {
    "collapsed": false
   },
   "outputs": [
    {
     "data": {
      "text/plain": [
       "[<matplotlib.text.Text at 0x1df50e80>,\n",
       " <matplotlib.text.Text at 0x1df40390>,\n",
       " <matplotlib.text.Text at 0x1a4d4d68>]"
      ]
     },
     "execution_count": 73,
     "metadata": {},
     "output_type": "execute_result"
    },
    {
     "data": {
      "image/png": "[encoded data removed]",
      "text/plain": [
       "<matplotlib.figure.Figure at 0x1c8cdeb8>"
      ]
     },
     "metadata": {},
     "output_type": "display_data"
    }
   ],
   "source": [
    "sns.set_style(\"whitegrid\")\n",
    "#plt.figure(figsize=(9,4))\n",
    "ax = sns.countplot(x='DISTRICT',hue='Poverty',data=dist,\n",
    "                   palette='Set1',order=[str(x) for x in (range(1,11))])\n",
    "plt.legend(bbox_to_anchor=(1.05, 1), loc=2, borderaxespad=0.)\n",
    "ax.set(xlabel='Council District', ylabel='Eviction Filings',title='Eviction Filings 2011-2015 by Poverty in Tract')"
   ]
  },
  {
   "cell_type": "code",
   "execution_count": null,
   "metadata": {
    "collapsed": true
   },
   "outputs": [],
   "source": []
  },
  {
   "cell_type": "code",
   "execution_count": null,
   "metadata": {
    "collapsed": true
   },
   "outputs": [],
   "source": []
  },
  {
   "cell_type": "code",
   "execution_count": null,
   "metadata": {
    "collapsed": true
   },
   "outputs": [],
   "source": []
  },
  {
   "cell_type": "code",
   "execution_count": null,
   "metadata": {
    "collapsed": true
   },
   "outputs": [],
   "source": []
  },
  {
   "cell_type": "code",
   "execution_count": null,
   "metadata": {
    "collapsed": true
   },
   "outputs": [],
   "source": []
  },
  {
   "cell_type": "markdown",
   "metadata": {},
   "source": [
    "# September Stuff....."
   ]
  },
  {
   "cell_type": "code",
   "execution_count": 45,
   "metadata": {
    "collapsed": false
   },
   "outputs": [],
   "source": [
    "address_file = 'tenant-addresses-cleaned.csv'\n",
    "df = pd.read_csv(address_file,usecols=[0,1,2,3,5,6,7,8,9])"
   ]
  },
  {
   "cell_type": "code",
   "execution_count": 87,
   "metadata": {
    "collapsed": false
   },
   "outputs": [
    {
     "data": {
      "text/plain": [
       "(40.047536000000001, -75.151096999999993)"
      ]
     },
     "execution_count": 87,
     "metadata": {},
     "output_type": "execute_result"
    }
   ],
   "source": [
    "full_df['lat'][2],full_df['lon'][2]"
   ]
  },
  {
   "cell_type": "code",
   "execution_count": 86,
   "metadata": {
    "collapsed": false
   },
   "outputs": [
    {
     "data": {
      "text/plain": [
       "[{u'address_components': [{u'long_name': u'Belfield',\n",
       "    u'short_name': u'Belfield',\n",
       "    u'types': [u'neighborhood', u'political']},\n",
       "   {u'long_name': u'Morton',\n",
       "    u'short_name': u'Morton',\n",
       "    u'types': [u'political', u'sublocality', u'sublocality_level_1']},\n",
       "   {u'long_name': u'Philadelphia',\n",
       "    u'short_name': u'Philadelphia',\n",
       "    u'types': [u'locality', u'political']},\n",
       "   {u'long_name': u'Philadelphia County',\n",
       "    u'short_name': u'Philadelphia County',\n",
       "    u'types': [u'administrative_area_level_2', u'political']},\n",
       "   {u'long_name': u'Pennsylvania',\n",
       "    u'short_name': u'PA',\n",
       "    u'types': [u'administrative_area_level_1', u'political']},\n",
       "   {u'long_name': u'United States',\n",
       "    u'short_name': u'US',\n",
       "    u'types': [u'country', u'political']}],\n",
       "  u'formatted_address': u'Belfield, Philadelphia, PA, USA',\n",
       "  u'geometry': {u'bounds': {u'northeast': {u'lat': 40.0490534,\n",
       "     u'lng': -75.1496172},\n",
       "    u'southwest': {u'lat': 40.0390165, u'lng': -75.15850060000001}},\n",
       "   u'location': {u'lat': 40.04448439999999, u'lng': -75.1530788},\n",
       "   u'location_type': u'APPROXIMATE',\n",
       "   u'viewport': {u'northeast': {u'lat': 40.0490534, u'lng': -75.1496172},\n",
       "    u'southwest': {u'lat': 40.0390165, u'lng': -75.15850060000001}}},\n",
       "  u'place_id': u'ChIJI5On9n23xokRdyTtQLaOqCs',\n",
       "  u'types': [u'neighborhood', u'political']},\n",
       " {u'address_components': [{u'long_name': u'Logan/ Ogontz/ Fern Rock',\n",
       "    u'short_name': u'Logan/ Ogontz/ Fern Rock',\n",
       "    u'types': [u'neighborhood', u'political']},\n",
       "   {u'long_name': u'Philadelphia',\n",
       "    u'short_name': u'Philadelphia',\n",
       "    u'types': [u'locality', u'political']},\n",
       "   {u'long_name': u'Philadelphia County',\n",
       "    u'short_name': u'Philadelphia County',\n",
       "    u'types': [u'administrative_area_level_2', u'political']},\n",
       "   {u'long_name': u'Pennsylvania',\n",
       "    u'short_name': u'PA',\n",
       "    u'types': [u'administrative_area_level_1', u'political']},\n",
       "   {u'long_name': u'United States',\n",
       "    u'short_name': u'US',\n",
       "    u'types': [u'country', u'political']}],\n",
       "  u'formatted_address': u'Logan/ Ogontz/ Fern Rock, Philadelphia, PA, USA',\n",
       "  u'geometry': {u'bounds': {u'northeast': {u'lat': 40.0549111,\n",
       "     u'lng': -75.1344199},\n",
       "    u'southwest': {u'lat': 40.0194119, u'lng': -75.160021}},\n",
       "   u'location': {u'lat': 40.0326222, u'lng': -75.14870069999999},\n",
       "   u'location_type': u'APPROXIMATE',\n",
       "   u'viewport': {u'northeast': {u'lat': 40.0549111, u'lng': -75.1344199},\n",
       "    u'southwest': {u'lat': 40.0194119, u'lng': -75.160021}}},\n",
       "  u'place_id': u'ChIJmy6sdIK3xokRqBqXSAjfUNM',\n",
       "  u'types': [u'neighborhood', u'political']},\n",
       " {u'address_components': [{u'long_name': u'Olney-Oak Lane',\n",
       "    u'short_name': u'Olney-Oak Lane',\n",
       "    u'types': [u'neighborhood', u'political']},\n",
       "   {u'long_name': u'Philadelphia',\n",
       "    u'short_name': u'Philadelphia',\n",
       "    u'types': [u'locality', u'political']},\n",
       "   {u'long_name': u'Cheltenham Township',\n",
       "    u'short_name': u'Cheltenham Township',\n",
       "    u'types': [u'administrative_area_level_3', u'political']},\n",
       "   {u'long_name': u'Philadelphia County',\n",
       "    u'short_name': u'Philadelphia County',\n",
       "    u'types': [u'administrative_area_level_2', u'political']},\n",
       "   {u'long_name': u'Pennsylvania',\n",
       "    u'short_name': u'PA',\n",
       "    u'types': [u'administrative_area_level_1', u'political']},\n",
       "   {u'long_name': u'United States',\n",
       "    u'short_name': u'US',\n",
       "    u'types': [u'country', u'political']}],\n",
       "  u'formatted_address': u'Olney-Oak Lane, Philadelphia, PA, USA',\n",
       "  u'geometry': {u'bounds': {u'northeast': {u'lat': 40.0702111,\n",
       "     u'lng': -75.09208149999999},\n",
       "    u'southwest': {u'lat': 40.00131200000001, u'lng': -75.1605199}},\n",
       "   u'location': {u'lat': 40.0298088, u'lng': -75.1257809},\n",
       "   u'location_type': u'APPROXIMATE',\n",
       "   u'viewport': {u'northeast': {u'lat': 40.0702111,\n",
       "     u'lng': -75.09208149999999},\n",
       "    u'southwest': {u'lat': 40.00131200000001, u'lng': -75.1605199}}},\n",
       "  u'place_id': u'ChIJ3ap9QGu3xokRZOivG9OygLg',\n",
       "  u'types': [u'neighborhood', u'political']},\n",
       " {u'address_components': [{u'long_name': u'North Philadelphia',\n",
       "    u'short_name': u'North Philadelphia',\n",
       "    u'types': [u'neighborhood', u'political']},\n",
       "   {u'long_name': u'William Penn Annex East',\n",
       "    u'short_name': u'William Penn Annex East',\n",
       "    u'types': [u'political', u'sublocality', u'sublocality_level_1']},\n",
       "   {u'long_name': u'Philadelphia',\n",
       "    u'short_name': u'Philadelphia',\n",
       "    u'types': [u'locality', u'political']},\n",
       "   {u'long_name': u'Cheltenham Township',\n",
       "    u'short_name': u'Cheltenham Township',\n",
       "    u'types': [u'administrative_area_level_3', u'political']},\n",
       "   {u'long_name': u'Philadelphia County',\n",
       "    u'short_name': u'Philadelphia County',\n",
       "    u'types': [u'administrative_area_level_2', u'political']},\n",
       "   {u'long_name': u'Pennsylvania',\n",
       "    u'short_name': u'PA',\n",
       "    u'types': [u'administrative_area_level_1', u'political']},\n",
       "   {u'long_name': u'United States',\n",
       "    u'short_name': u'US',\n",
       "    u'types': [u'country', u'political']}],\n",
       "  u'formatted_address': u'North Philadelphia, Philadelphia, PA, USA',\n",
       "  u'geometry': {u'bounds': {u'northeast': {u'lat': 40.08458299999999,\n",
       "     u'lng': -75.05711699999999},\n",
       "    u'southwest': {u'lat': 39.95361200000001, u'lng': -75.1925239}},\n",
       "   u'location': {u'lat': 40.0067623, u'lng': -75.14286320000001},\n",
       "   u'location_type': u'APPROXIMATE',\n",
       "   u'viewport': {u'northeast': {u'lat': 40.08458299999999,\n",
       "     u'lng': -75.05711699999999},\n",
       "    u'southwest': {u'lat': 39.95361200000001, u'lng': -75.1925239}}},\n",
       "  u'place_id': u'ChIJe5EmUbm3xokRLvQYyTucxi4',\n",
       "  u'types': [u'neighborhood', u'political']}]"
      ]
     },
     "execution_count": 86,
     "metadata": {},
     "output_type": "execute_result"
    }
   ],
   "source": [
    "gmaps.reverse_geocode((full_df['lat'][2],full_df['lon'][2]),result_type='neighborhood')\n",
    "#df['value'] = df.apply(lambda x: lookup(x['group'], x['name']), axis=1)"
   ]
  },
  {
   "cell_type": "code",
   "execution_count": 51,
   "metadata": {
    "collapsed": false
   },
   "outputs": [
    {
     "data": {
      "text/plain": [
       "668384"
      ]
     },
     "execution_count": 51,
     "metadata": {},
     "output_type": "execute_result"
    }
   ],
   "source": [
    "len(df_summary)"
   ]
  },
  {
   "cell_type": "code",
   "execution_count": 54,
   "metadata": {
    "collapsed": false
   },
   "outputs": [],
   "source": [
    "#merging table with coordinates with full case summary table, saving to file\n",
    "full_df = pd.merge(df,df_summary,how='left',on='id')\n",
    "full_df.to_csv('merged.csv')"
   ]
  },
  {
   "cell_type": "code",
   "execution_count": 94,
   "metadata": {
    "collapsed": false
   },
   "outputs": [],
   "source": [
    "#experiment on year: only 7 records without it (and consequently the 'month' field, too); best timestamp\n",
    "times = full_df[['year','dates_heard','first_date_heard','hearing_date_and_time']]\n",
    "print len(full_df[['year','dates_heard','first_date_heard','hearing_date_and_time']])"
   ]
  },
  {
   "cell_type": "code",
   "execution_count": 57,
   "metadata": {
    "collapsed": false
   },
   "outputs": [],
   "source": [
    "#experiment on records missing in table with coordinates: ~4,000 records total, and 134 records missing since 2014\n",
    "no_id = df_summary[~df_summary.id.isin(df.id)]\n",
    "no_id.loc[no_id['year'] > 2014] "
   ]
  },
  {
   "cell_type": "code",
   "execution_count": 99,
   "metadata": {
    "collapsed": false
   },
   "outputs": [
    {
     "name": "stdout",
     "output_type": "stream",
     "text": [
      "495953\n"
     ]
    }
   ],
   "source": [
    "relevant = full_df.loc[full_df['year'] > 1989] #maaybe we'll use the 1990 census\n",
    "print len(relevant)\n",
    "relevant.to_csv('merged_1990.csv')"
   ]
  },
  {
   "cell_type": "code",
   "execution_count": 101,
   "metadata": {
    "collapsed": true
   },
   "outputs": [],
   "source": [
    "import geopandas as gpd"
   ]
  },
  {
   "cell_type": "code",
   "execution_count": 106,
   "metadata": {
    "collapsed": false
   },
   "outputs": [],
   "source": [
    "full_df['geometry'] = full_df.apply(lambda z: Point(z.lat, z.lon), axis=1)\n",
    "geo_full_df = gpd.GeoDataFrame(full_df)"
   ]
  },
  {
   "cell_type": "code",
   "execution_count": 118,
   "metadata": {
    "collapsed": false
   },
   "outputs": [],
   "source": [
    "shp = gpd.GeoDataFrame.from_file('Neighborhoods_Philadelphia.shp')"
   ]
  },
  {
   "cell_type": "code",
   "execution_count": 60,
   "metadata": {
    "collapsed": false
   },
   "outputs": [],
   "source": [
    "#FAIL\n",
    "#result = geopandas.tools.sjoin(geo_full_df, shp, how=\"left\")\n",
    "\n",
    "# Print the results..\n",
    "#result['NAME'].head(50)"
   ]
  },
  {
   "cell_type": "code",
   "execution_count": 117,
   "metadata": {
    "collapsed": false
   },
   "outputs": [
    {
     "data": {
      "image/png": "[encoded data removed]",
      "text/plain": [
       "<matplotlib.figure.Figure at 0x11169fe80>"
      ]
     },
     "metadata": {},
     "output_type": "display_data"
    }
   ],
   "source": [
    "geo_full_df.plot()\n",
    "plt.show()"
   ]
  },
  {
   "cell_type": "markdown",
   "metadata": {},
   "source": [
    "<h2>START ANALYSIS OF MERGED TABLE</h2>"
   ]
  },
  {
   "cell_type": "code",
   "execution_count": 4,
   "metadata": {
    "collapsed": false
   },
   "outputs": [
    {
     "name": "stderr",
     "output_type": "stream",
     "text": [
      "C:\\Users\\catst\\Anaconda2\\lib\\site-packages\\IPython\\core\\interactiveshell.py:2717: DtypeWarning: Columns (5) have mixed types. Specify dtype option on import or set low_memory=False.\n",
      "  interactivity=interactivity, compiler=compiler, result=result)\n"
     ]
    }
   ],
   "source": [
    "df = pd.read_csv('merged_1990.csv')"
   ]
  },
  {
   "cell_type": "code",
   "execution_count": 83,
   "metadata": {
    "collapsed": false
   },
   "outputs": [
    {
     "data": {
      "text/html": [
       "<div>\n",
       "<table border=\"1\" class=\"dataframe\">\n",
       "  <thead>\n",
       "    <tr style=\"text-align: right;\">\n",
       "      <th></th>\n",
       "      <th>premises_x</th>\n",
       "      <th>defendant</th>\n",
       "      <th>plaintiff</th>\n",
       "      <th>month</th>\n",
       "      <th>year</th>\n",
       "    </tr>\n",
       "  </thead>\n",
       "  <tbody>\n",
       "    <tr>\n",
       "      <th>204251</th>\n",
       "      <td>707 CHESTNUT ST, PHILADELPHIA, PA</td>\n",
       "      <td>DEBORAH C. MAXWELL|AND|JOHN J. DESIMONE III|AN...</td>\n",
       "      <td>CP AQUISITIONS 20, LP</td>\n",
       "      <td>5.0</td>\n",
       "      <td>2016.0</td>\n",
       "    </tr>\n",
       "    <tr>\n",
       "      <th>468476</th>\n",
       "      <td>707 CHESTNUT ST, PHILADELPHIA, PA</td>\n",
       "      <td>DEBORAH C. MAXWELL|AND|JOHN J. DISIMONE III|AN...</td>\n",
       "      <td>CP AQUISITIONS 20, LP</td>\n",
       "      <td>4.0</td>\n",
       "      <td>2016.0</td>\n",
       "    </tr>\n",
       "    <tr>\n",
       "      <th>534645</th>\n",
       "      <td>707 CHESTNUT ST, PHILADELPHIA, PA</td>\n",
       "      <td>213T ASSOCIATES LLC|AND|BEATRIZ GARCES|AND|JOS...</td>\n",
       "      <td>CP AQUISITIONS 20, LP</td>\n",
       "      <td>4.0</td>\n",
       "      <td>2016.0</td>\n",
       "    </tr>\n",
       "  </tbody>\n",
       "</table>\n",
       "</div>"
      ],
      "text/plain": [
       "                               premises_x  \\\n",
       "204251  707 CHESTNUT ST, PHILADELPHIA, PA   \n",
       "468476  707 CHESTNUT ST, PHILADELPHIA, PA   \n",
       "534645  707 CHESTNUT ST, PHILADELPHIA, PA   \n",
       "\n",
       "                                                defendant  \\\n",
       "204251  DEBORAH C. MAXWELL|AND|JOHN J. DESIMONE III|AN...   \n",
       "468476  DEBORAH C. MAXWELL|AND|JOHN J. DISIMONE III|AN...   \n",
       "534645  213T ASSOCIATES LLC|AND|BEATRIZ GARCES|AND|JOS...   \n",
       "\n",
       "                    plaintiff  month    year  \n",
       "204251  CP AQUISITIONS 20, LP    5.0  2016.0  \n",
       "468476  CP AQUISITIONS 20, LP    4.0  2016.0  \n",
       "534645  CP AQUISITIONS 20, LP    4.0  2016.0  "
      ]
     },
     "execution_count": 83,
     "metadata": {},
     "output_type": "execute_result"
    }
   ],
   "source": [
    "#Try to find apartments that Cross Properties is redeveloping at 1601-1603 Lombard St\n",
    "df[df['plaintiff'].str.contains('CP AQUISITIONS',na=False)].sort_values('year',ascending=False)[['premises_x','defendant','plaintiff','month','year']]"
   ]
  },
  {
   "cell_type": "code",
   "execution_count": 4,
   "metadata": {
    "collapsed": false
   },
   "outputs": [],
   "source": [
    "#df[['a','b','c','a_only','b_only','c_only']].apply(for x indf[x].value_counts()"
   ]
  },
  {
   "cell_type": "code",
   "execution_count": 4,
   "metadata": {
    "collapsed": false
   },
   "outputs": [],
   "source": [
    "recent = df.loc[df['year'] > 2004].loc[df['year'] < 2017]"
   ]
  },
  {
   "cell_type": "code",
   "execution_count": 5,
   "metadata": {
    "collapsed": false
   },
   "outputs": [],
   "source": [
    "unjust_evictions = recent.loc[recent['b_only'] == 't'].groupby('year')['b_only'].value_counts()"
   ]
  },
  {
   "cell_type": "code",
   "execution_count": 6,
   "metadata": {
    "collapsed": false
   },
   "outputs": [],
   "source": [
    "total_yearly = recent.groupby('year')['id'].count()"
   ]
  },
  {
   "cell_type": "code",
   "execution_count": 7,
   "metadata": {
    "collapsed": false
   },
   "outputs": [
    {
     "data": {
      "text/plain": [
       "year\n",
       "2005.0    20200\n",
       "2006.0    21761\n",
       "2007.0    21852\n",
       "2008.0    21869\n",
       "2009.0    20402\n",
       "2010.0    23196\n",
       "2011.0    23628\n",
       "2012.0    24238\n",
       "2013.0    23502\n",
       "2014.0    24070\n",
       "2015.0    22349\n",
       "2016.0    22530\n",
       "Name: id, dtype: int64"
      ]
     },
     "execution_count": 7,
     "metadata": {},
     "output_type": "execute_result"
    }
   ],
   "source": [
    "total_yearly"
   ]
  },
  {
   "cell_type": "code",
   "execution_count": 44,
   "metadata": {
    "collapsed": false
   },
   "outputs": [
    {
     "name": "stdout",
     "output_type": "stream",
     "text": [
      "<generator object <genexpr> at 0x00000000360DCEA0>\n"
     ]
    }
   ],
   "source": [
    "perc_unjust = (unjust_evictions[year[0]]/float(total_yearly[year[0]]) for year in unjust_evictions.keys())\n",
    "print perc_unjust"
   ]
  },
  {
   "cell_type": "code",
   "execution_count": 11,
   "metadata": {
    "collapsed": false
   },
   "outputs": [
    {
     "data": {
      "text/plain": [
       "19144    6622\n",
       "19121    5096\n",
       "19124    5043\n",
       "19143    4632\n",
       "19139    4536\n",
       "19145    4230\n",
       "19120    4144\n",
       "19134    3872\n",
       "19131    3752\n",
       "19104    3685\n",
       "19140    3460\n",
       "19141    2975\n",
       "19132    2946\n",
       "19111    2937\n",
       "19142    2656\n",
       "Name: zip, dtype: int64"
      ]
     },
     "execution_count": 11,
     "metadata": {},
     "output_type": "execute_result"
    }
   ],
   "source": [
    "#Experiment number something... breaking up eviction w/o just cause by zipcode!\n",
    "recent = df.loc[df['year'] > 2012]\n",
    "recent_unjust = recent.loc[recent['b_only'] == 't']\n",
    "recent['zip'].value_counts().head(15)"
   ]
  },
  {
   "cell_type": "code",
   "execution_count": 15,
   "metadata": {
    "collapsed": false
   },
   "outputs": [
    {
     "data": {
      "text/plain": [
       "0     JACQUELYN COOPER & ALL OTHER OCCUPANTS|AND|JAM...\n",
       "1      AMERICAN ABRASI VES INC|AND|HANS H VAN DER SANDE\n",
       "2                                       SANTASIA THOMAS\n",
       "3                                     WILLIAMS PATRICIA\n",
       "4                                            KANE MOLLY\n",
       "5                                          CROMER ALENE\n",
       "6                                         JOHNSON ANN M\n",
       "7                                        ROBINSON KEVIN\n",
       "8     BRANDII SCOTT|AND|KAREESE NELSON & ALL OTHER O...\n",
       "9                                          HOUGH SHEILA\n",
       "10                                      DANIELLE GAINES\n",
       "11                                    CRUTCHFELD TRACEY\n",
       "12         DANTE CLARK|AND|MAUREEN HOOD & all occupants\n",
       "13                       Katrina Neal and All Occupants\n",
       "14                   ARTHUR MCDANIELS|AND|YVONNE BUTLER\n",
       "15                                          NADIA BAKER\n",
       "16                      BRUCE MURPHY|AND|KAYLA WILLIAMS\n",
       "17                      JOHNSON SHAWN|AND|PERDOMO GIANI\n",
       "18                      NENE MOMA & ALL OTHER OCCUPANTS\n",
       "19                                  CLANTON,JR. JOHNNIE\n",
       "20    MONTMARQUETTE ANGELA|AND|MONTMARQUETTE RICHARD...\n",
       "21                                        TAREK GARBOUY\n",
       "22    ANDREW PULINI|AND|BRENDAN BARBAGALLO|AND|KAREN...\n",
       "23                                         AISHA RAINEY\n",
       "24                                 HINES-MCDOWELL PAULA\n",
       "25                    JAMES ETHRIDGE|AND|VELMA ETHRIDGE\n",
       "26                       SCOTT MARTIN|AND|THOMAS EDWARD\n",
       "27                                       BURTON,JR. LEE\n",
       "28                                       Kalila Stewart\n",
       "29                                       DONOVAN MILLER\n",
       "Name: defendant, dtype: object"
      ]
     },
     "execution_count": 15,
     "metadata": {},
     "output_type": "execute_result"
    }
   ],
   "source": [
    "df['defendant'].head(30)"
   ]
  },
  {
   "cell_type": "code",
   "execution_count": 19,
   "metadata": {
    "collapsed": false
   },
   "outputs": [
    {
     "data": {
      "text/plain": [
       "50437"
      ]
     },
     "execution_count": 19,
     "metadata": {},
     "output_type": "execute_result"
    }
   ],
   "source": [
    "len(recent)"
   ]
  },
  {
   "cell_type": "markdown",
   "metadata": {
    "collapsed": true
   },
   "source": [
    "# Searching out slumlords I: Lakewood Properties & Pelham Courts"
   ]
  },
  {
   "cell_type": "code",
   "execution_count": 52,
   "metadata": {
    "collapsed": false
   },
   "outputs": [
    {
     "data": {
      "text/plain": [
       "2009.0    28\n",
       "2008.0    27\n",
       "2010.0    22\n",
       "2007.0    19\n",
       "2012.0    18\n",
       "2013.0    17\n",
       "2011.0    15\n",
       "2006.0    13\n",
       "2015.0    10\n",
       "2014.0     9\n",
       "2005.0     5\n",
       "Name: year, dtype: int64"
      ]
     },
     "execution_count": 52,
     "metadata": {},
     "output_type": "execute_result"
    }
   ],
   "source": [
    "df_summary.loc[df_summary['plaintiff_address'].str.contains(\"LAKEWOOD, NJ\",na=False)].loc[\n",
    "    df_summary['plaintiff'].str.contains('OLIVER',na=False)]['year'].value_counts()\n",
    "#plt.show()"
   ]
  },
  {
   "cell_type": "code",
   "execution_count": 64,
   "metadata": {
    "collapsed": false
   },
   "outputs": [
    {
     "data": {
      "text/html": [
       "<div>\n",
       "<table border=\"1\" class=\"dataframe\">\n",
       "  <thead>\n",
       "    <tr style=\"text-align: right;\">\n",
       "      <th></th>\n",
       "      <th>id</th>\n",
       "      <th>url</th>\n",
       "      <th>year</th>\n",
       "      <th>month</th>\n",
       "      <th>d_filing</th>\n",
       "      <th>a</th>\n",
       "      <th>b</th>\n",
       "      <th>c</th>\n",
       "      <th>a_only</th>\n",
       "      <th>b_only</th>\n",
       "      <th>...</th>\n",
       "      <th>zip</th>\n",
       "      <th>months</th>\n",
       "      <th>low_rent</th>\n",
       "      <th>publichousing</th>\n",
       "      <th>first_hearing_dow</th>\n",
       "      <th>latitude</th>\n",
       "      <th>longitude</th>\n",
       "      <th>clean_address</th>\n",
       "      <th>firstname</th>\n",
       "      <th>lastname</th>\n",
       "    </tr>\n",
       "  </thead>\n",
       "  <tbody>\n",
       "    <tr>\n",
       "      <th>397701</th>\n",
       "      <td>LT-16-10-19-4958</td>\n",
       "      <td>https://fjdclaims.phila.gov/phmuni/casedocket/...</td>\n",
       "      <td>2016.0</td>\n",
       "      <td>10.0</td>\n",
       "      <td>2016-10-19 00:00:00</td>\n",
       "      <td>t</td>\n",
       "      <td>f</td>\n",
       "      <td>f</td>\n",
       "      <td>t</td>\n",
       "      <td>f</td>\n",
       "      <td>...</td>\n",
       "      <td>19144</td>\n",
       "      <td>NaN</td>\n",
       "      <td>NaN</td>\n",
       "      <td>f</td>\n",
       "      <td>2.0</td>\n",
       "      <td>NaN</td>\n",
       "      <td>NaN</td>\n",
       "      <td>NaN</td>\n",
       "      <td>NaN</td>\n",
       "      <td>NaN</td>\n",
       "    </tr>\n",
       "    <tr>\n",
       "      <th>397703</th>\n",
       "      <td>LT-16-10-17-4607</td>\n",
       "      <td>https://fjdclaims.phila.gov/phmuni/casedocket/...</td>\n",
       "      <td>2016.0</td>\n",
       "      <td>10.0</td>\n",
       "      <td>2016-10-17 00:00:00</td>\n",
       "      <td>t</td>\n",
       "      <td>f</td>\n",
       "      <td>f</td>\n",
       "      <td>t</td>\n",
       "      <td>f</td>\n",
       "      <td>...</td>\n",
       "      <td>19144</td>\n",
       "      <td>NaN</td>\n",
       "      <td>NaN</td>\n",
       "      <td>f</td>\n",
       "      <td>2.0</td>\n",
       "      <td>NaN</td>\n",
       "      <td>NaN</td>\n",
       "      <td>NaN</td>\n",
       "      <td>NaN</td>\n",
       "      <td>NaN</td>\n",
       "    </tr>\n",
       "    <tr>\n",
       "      <th>398797</th>\n",
       "      <td>LT-16-11-03-3321</td>\n",
       "      <td>https://fjdclaims.phila.gov/phmuni/casedocket/...</td>\n",
       "      <td>2016.0</td>\n",
       "      <td>11.0</td>\n",
       "      <td>2016-11-03 00:00:00</td>\n",
       "      <td>t</td>\n",
       "      <td>f</td>\n",
       "      <td>f</td>\n",
       "      <td>t</td>\n",
       "      <td>f</td>\n",
       "      <td>...</td>\n",
       "      <td>19144</td>\n",
       "      <td>NaN</td>\n",
       "      <td>NaN</td>\n",
       "      <td>f</td>\n",
       "      <td>1.0</td>\n",
       "      <td>NaN</td>\n",
       "      <td>NaN</td>\n",
       "      <td>NaN</td>\n",
       "      <td>NaN</td>\n",
       "      <td>NaN</td>\n",
       "    </tr>\n",
       "    <tr>\n",
       "      <th>398798</th>\n",
       "      <td>LT-16-11-03-3319</td>\n",
       "      <td>https://fjdclaims.phila.gov/phmuni/casedocket/...</td>\n",
       "      <td>2016.0</td>\n",
       "      <td>11.0</td>\n",
       "      <td>2016-11-03 00:00:00</td>\n",
       "      <td>t</td>\n",
       "      <td>f</td>\n",
       "      <td>f</td>\n",
       "      <td>t</td>\n",
       "      <td>f</td>\n",
       "      <td>...</td>\n",
       "      <td>19144</td>\n",
       "      <td>NaN</td>\n",
       "      <td>NaN</td>\n",
       "      <td>f</td>\n",
       "      <td>1.0</td>\n",
       "      <td>NaN</td>\n",
       "      <td>NaN</td>\n",
       "      <td>NaN</td>\n",
       "      <td>NaN</td>\n",
       "      <td>NaN</td>\n",
       "    </tr>\n",
       "    <tr>\n",
       "      <th>400649</th>\n",
       "      <td>LT-16-12-08-3888</td>\n",
       "      <td>https://fjdclaims.phila.gov/phmuni/casedocket/...</td>\n",
       "      <td>2016.0</td>\n",
       "      <td>12.0</td>\n",
       "      <td>2016-12-08 00:00:00</td>\n",
       "      <td>t</td>\n",
       "      <td>f</td>\n",
       "      <td>f</td>\n",
       "      <td>t</td>\n",
       "      <td>f</td>\n",
       "      <td>...</td>\n",
       "      <td>19144</td>\n",
       "      <td>NaN</td>\n",
       "      <td>NaN</td>\n",
       "      <td>f</td>\n",
       "      <td>5.0</td>\n",
       "      <td>NaN</td>\n",
       "      <td>NaN</td>\n",
       "      <td>NaN</td>\n",
       "      <td>NaN</td>\n",
       "      <td>NaN</td>\n",
       "    </tr>\n",
       "    <tr>\n",
       "      <th>402199</th>\n",
       "      <td>LT-17-01-06-3480</td>\n",
       "      <td>https://fjdclaims.phila.gov/phmuni/casedocket/...</td>\n",
       "      <td>2017.0</td>\n",
       "      <td>1.0</td>\n",
       "      <td>2017-01-06 00:00:00</td>\n",
       "      <td>t</td>\n",
       "      <td>f</td>\n",
       "      <td>f</td>\n",
       "      <td>t</td>\n",
       "      <td>f</td>\n",
       "      <td>...</td>\n",
       "      <td>19144</td>\n",
       "      <td>NaN</td>\n",
       "      <td>NaN</td>\n",
       "      <td>f</td>\n",
       "      <td>3.0</td>\n",
       "      <td>NaN</td>\n",
       "      <td>NaN</td>\n",
       "      <td>NaN</td>\n",
       "      <td>NaN</td>\n",
       "      <td>NaN</td>\n",
       "    </tr>\n",
       "    <tr>\n",
       "      <th>590009</th>\n",
       "      <td>LT-15-10-01-3105</td>\n",
       "      <td>https://fjdclaims.phila.gov/phmuni/casedocket/...</td>\n",
       "      <td>2015.0</td>\n",
       "      <td>10.0</td>\n",
       "      <td>2015-10-01 00:00:00</td>\n",
       "      <td>t</td>\n",
       "      <td>f</td>\n",
       "      <td>f</td>\n",
       "      <td>t</td>\n",
       "      <td>f</td>\n",
       "      <td>...</td>\n",
       "      <td>19144</td>\n",
       "      <td>1.215425</td>\n",
       "      <td>t</td>\n",
       "      <td>f</td>\n",
       "      <td>2.0</td>\n",
       "      <td>NaN</td>\n",
       "      <td>NaN</td>\n",
       "      <td>NaN</td>\n",
       "      <td>NaN</td>\n",
       "      <td>NaN</td>\n",
       "    </tr>\n",
       "    <tr>\n",
       "      <th>594564</th>\n",
       "      <td>LT-15-12-29-6011</td>\n",
       "      <td>https://fjdclaims.phila.gov/phmuni/casedocket/...</td>\n",
       "      <td>2015.0</td>\n",
       "      <td>12.0</td>\n",
       "      <td>2015-12-29 00:00:00</td>\n",
       "      <td>t</td>\n",
       "      <td>f</td>\n",
       "      <td>f</td>\n",
       "      <td>t</td>\n",
       "      <td>f</td>\n",
       "      <td>...</td>\n",
       "      <td>19144</td>\n",
       "      <td>2.784421</td>\n",
       "      <td>t</td>\n",
       "      <td>f</td>\n",
       "      <td>5.0</td>\n",
       "      <td>NaN</td>\n",
       "      <td>NaN</td>\n",
       "      <td>NaN</td>\n",
       "      <td>NaN</td>\n",
       "      <td>NaN</td>\n",
       "    </tr>\n",
       "    <tr>\n",
       "      <th>597867</th>\n",
       "      <td>LT-16-03-01-3133</td>\n",
       "      <td>https://fjdclaims.phila.gov/phmuni/casedocket/...</td>\n",
       "      <td>2016.0</td>\n",
       "      <td>3.0</td>\n",
       "      <td>2016-03-01 00:00:00</td>\n",
       "      <td>t</td>\n",
       "      <td>f</td>\n",
       "      <td>f</td>\n",
       "      <td>t</td>\n",
       "      <td>f</td>\n",
       "      <td>...</td>\n",
       "      <td>19144</td>\n",
       "      <td>1.843116</td>\n",
       "      <td>t</td>\n",
       "      <td>f</td>\n",
       "      <td>3.0</td>\n",
       "      <td>NaN</td>\n",
       "      <td>NaN</td>\n",
       "      <td>NaN</td>\n",
       "      <td>NaN</td>\n",
       "      <td>NaN</td>\n",
       "    </tr>\n",
       "    <tr>\n",
       "      <th>600665</th>\n",
       "      <td>LT-16-05-06-3624</td>\n",
       "      <td>https://fjdclaims.phila.gov/phmuni/casedocket/...</td>\n",
       "      <td>2016.0</td>\n",
       "      <td>5.0</td>\n",
       "      <td>2016-05-06 00:00:00</td>\n",
       "      <td>t</td>\n",
       "      <td>f</td>\n",
       "      <td>f</td>\n",
       "      <td>t</td>\n",
       "      <td>f</td>\n",
       "      <td>...</td>\n",
       "      <td>19144</td>\n",
       "      <td>1.669977</td>\n",
       "      <td>t</td>\n",
       "      <td>f</td>\n",
       "      <td>2.0</td>\n",
       "      <td>NaN</td>\n",
       "      <td>NaN</td>\n",
       "      <td>NaN</td>\n",
       "      <td>NaN</td>\n",
       "      <td>NaN</td>\n",
       "    </tr>\n",
       "    <tr>\n",
       "      <th>600677</th>\n",
       "      <td>LT-16-05-05-3564</td>\n",
       "      <td>https://fjdclaims.phila.gov/phmuni/casedocket/...</td>\n",
       "      <td>2016.0</td>\n",
       "      <td>5.0</td>\n",
       "      <td>2016-05-05 00:00:00</td>\n",
       "      <td>t</td>\n",
       "      <td>f</td>\n",
       "      <td>f</td>\n",
       "      <td>t</td>\n",
       "      <td>f</td>\n",
       "      <td>...</td>\n",
       "      <td>19144</td>\n",
       "      <td>2.099060</td>\n",
       "      <td>t</td>\n",
       "      <td>f</td>\n",
       "      <td>2.0</td>\n",
       "      <td>NaN</td>\n",
       "      <td>NaN</td>\n",
       "      <td>NaN</td>\n",
       "      <td>NaN</td>\n",
       "      <td>NaN</td>\n",
       "    </tr>\n",
       "    <tr>\n",
       "      <th>603476</th>\n",
       "      <td>LT-16-07-05-3072</td>\n",
       "      <td>https://fjdclaims.phila.gov/phmuni/casedocket/...</td>\n",
       "      <td>2016.0</td>\n",
       "      <td>7.0</td>\n",
       "      <td>2016-07-05 00:00:00</td>\n",
       "      <td>t</td>\n",
       "      <td>f</td>\n",
       "      <td>f</td>\n",
       "      <td>t</td>\n",
       "      <td>f</td>\n",
       "      <td>...</td>\n",
       "      <td>19144</td>\n",
       "      <td>1.000000</td>\n",
       "      <td>t</td>\n",
       "      <td>f</td>\n",
       "      <td>1.0</td>\n",
       "      <td>NaN</td>\n",
       "      <td>NaN</td>\n",
       "      <td>NaN</td>\n",
       "      <td>NaN</td>\n",
       "      <td>NaN</td>\n",
       "    </tr>\n",
       "    <tr>\n",
       "      <th>603502</th>\n",
       "      <td>LT-16-07-07-3396</td>\n",
       "      <td>https://fjdclaims.phila.gov/phmuni/casedocket/...</td>\n",
       "      <td>2016.0</td>\n",
       "      <td>7.0</td>\n",
       "      <td>2016-07-07 00:00:00</td>\n",
       "      <td>t</td>\n",
       "      <td>f</td>\n",
       "      <td>f</td>\n",
       "      <td>t</td>\n",
       "      <td>f</td>\n",
       "      <td>...</td>\n",
       "      <td>19144</td>\n",
       "      <td>1.457429</td>\n",
       "      <td>t</td>\n",
       "      <td>f</td>\n",
       "      <td>1.0</td>\n",
       "      <td>NaN</td>\n",
       "      <td>NaN</td>\n",
       "      <td>NaN</td>\n",
       "      <td>NaN</td>\n",
       "      <td>NaN</td>\n",
       "    </tr>\n",
       "    <tr>\n",
       "      <th>605246</th>\n",
       "      <td>LT-16-08-01-3013</td>\n",
       "      <td>https://fjdclaims.phila.gov/phmuni/casedocket/...</td>\n",
       "      <td>2016.0</td>\n",
       "      <td>8.0</td>\n",
       "      <td>2016-08-01 00:00:00</td>\n",
       "      <td>t</td>\n",
       "      <td>f</td>\n",
       "      <td>f</td>\n",
       "      <td>t</td>\n",
       "      <td>f</td>\n",
       "      <td>...</td>\n",
       "      <td>19144</td>\n",
       "      <td>1.562389</td>\n",
       "      <td>t</td>\n",
       "      <td>f</td>\n",
       "      <td>5.0</td>\n",
       "      <td>NaN</td>\n",
       "      <td>NaN</td>\n",
       "      <td>NaN</td>\n",
       "      <td>NaN</td>\n",
       "      <td>NaN</td>\n",
       "    </tr>\n",
       "    <tr>\n",
       "      <th>605271</th>\n",
       "      <td>LT-16-08-01-3006</td>\n",
       "      <td>https://fjdclaims.phila.gov/phmuni/casedocket/...</td>\n",
       "      <td>2016.0</td>\n",
       "      <td>8.0</td>\n",
       "      <td>2016-08-01 00:00:00</td>\n",
       "      <td>t</td>\n",
       "      <td>f</td>\n",
       "      <td>f</td>\n",
       "      <td>t</td>\n",
       "      <td>f</td>\n",
       "      <td>...</td>\n",
       "      <td>19144</td>\n",
       "      <td>1.227186</td>\n",
       "      <td>t</td>\n",
       "      <td>f</td>\n",
       "      <td>5.0</td>\n",
       "      <td>NaN</td>\n",
       "      <td>NaN</td>\n",
       "      <td>NaN</td>\n",
       "      <td>NaN</td>\n",
       "      <td>NaN</td>\n",
       "    </tr>\n",
       "    <tr>\n",
       "      <th>605279</th>\n",
       "      <td>LT-16-08-01-3011</td>\n",
       "      <td>https://fjdclaims.phila.gov/phmuni/casedocket/...</td>\n",
       "      <td>2016.0</td>\n",
       "      <td>8.0</td>\n",
       "      <td>2016-08-01 00:00:00</td>\n",
       "      <td>t</td>\n",
       "      <td>f</td>\n",
       "      <td>f</td>\n",
       "      <td>t</td>\n",
       "      <td>f</td>\n",
       "      <td>...</td>\n",
       "      <td>19144</td>\n",
       "      <td>1.139566</td>\n",
       "      <td>t</td>\n",
       "      <td>f</td>\n",
       "      <td>5.0</td>\n",
       "      <td>NaN</td>\n",
       "      <td>NaN</td>\n",
       "      <td>NaN</td>\n",
       "      <td>NaN</td>\n",
       "      <td>NaN</td>\n",
       "    </tr>\n",
       "    <tr>\n",
       "      <th>606991</th>\n",
       "      <td>LT-16-08-29-6120</td>\n",
       "      <td>https://fjdclaims.phila.gov/phmuni/casedocket/...</td>\n",
       "      <td>2016.0</td>\n",
       "      <td>8.0</td>\n",
       "      <td>2016-08-29 00:00:00</td>\n",
       "      <td>t</td>\n",
       "      <td>f</td>\n",
       "      <td>f</td>\n",
       "      <td>t</td>\n",
       "      <td>f</td>\n",
       "      <td>...</td>\n",
       "      <td>19144</td>\n",
       "      <td>1.732762</td>\n",
       "      <td>t</td>\n",
       "      <td>f</td>\n",
       "      <td>5.0</td>\n",
       "      <td>NaN</td>\n",
       "      <td>NaN</td>\n",
       "      <td>NaN</td>\n",
       "      <td>NaN</td>\n",
       "      <td>NaN</td>\n",
       "    </tr>\n",
       "  </tbody>\n",
       "</table>\n",
       "<p>17 rows × 97 columns</p>\n",
       "</div>"
      ],
      "text/plain": [
       "                      id                                                url  \\\n",
       "397701  LT-16-10-19-4958  https://fjdclaims.phila.gov/phmuni/casedocket/...   \n",
       "397703  LT-16-10-17-4607  https://fjdclaims.phila.gov/phmuni/casedocket/...   \n",
       "398797  LT-16-11-03-3321  https://fjdclaims.phila.gov/phmuni/casedocket/...   \n",
       "398798  LT-16-11-03-3319  https://fjdclaims.phila.gov/phmuni/casedocket/...   \n",
       "400649  LT-16-12-08-3888  https://fjdclaims.phila.gov/phmuni/casedocket/...   \n",
       "402199  LT-17-01-06-3480  https://fjdclaims.phila.gov/phmuni/casedocket/...   \n",
       "590009  LT-15-10-01-3105  https://fjdclaims.phila.gov/phmuni/casedocket/...   \n",
       "594564  LT-15-12-29-6011  https://fjdclaims.phila.gov/phmuni/casedocket/...   \n",
       "597867  LT-16-03-01-3133  https://fjdclaims.phila.gov/phmuni/casedocket/...   \n",
       "600665  LT-16-05-06-3624  https://fjdclaims.phila.gov/phmuni/casedocket/...   \n",
       "600677  LT-16-05-05-3564  https://fjdclaims.phila.gov/phmuni/casedocket/...   \n",
       "603476  LT-16-07-05-3072  https://fjdclaims.phila.gov/phmuni/casedocket/...   \n",
       "603502  LT-16-07-07-3396  https://fjdclaims.phila.gov/phmuni/casedocket/...   \n",
       "605246  LT-16-08-01-3013  https://fjdclaims.phila.gov/phmuni/casedocket/...   \n",
       "605271  LT-16-08-01-3006  https://fjdclaims.phila.gov/phmuni/casedocket/...   \n",
       "605279  LT-16-08-01-3011  https://fjdclaims.phila.gov/phmuni/casedocket/...   \n",
       "606991  LT-16-08-29-6120  https://fjdclaims.phila.gov/phmuni/casedocket/...   \n",
       "\n",
       "          year  month             d_filing  a  b  c a_only b_only   ...     \\\n",
       "397701  2016.0   10.0  2016-10-19 00:00:00  t  f  f      t      f   ...      \n",
       "397703  2016.0   10.0  2016-10-17 00:00:00  t  f  f      t      f   ...      \n",
       "398797  2016.0   11.0  2016-11-03 00:00:00  t  f  f      t      f   ...      \n",
       "398798  2016.0   11.0  2016-11-03 00:00:00  t  f  f      t      f   ...      \n",
       "400649  2016.0   12.0  2016-12-08 00:00:00  t  f  f      t      f   ...      \n",
       "402199  2017.0    1.0  2017-01-06 00:00:00  t  f  f      t      f   ...      \n",
       "590009  2015.0   10.0  2015-10-01 00:00:00  t  f  f      t      f   ...      \n",
       "594564  2015.0   12.0  2015-12-29 00:00:00  t  f  f      t      f   ...      \n",
       "597867  2016.0    3.0  2016-03-01 00:00:00  t  f  f      t      f   ...      \n",
       "600665  2016.0    5.0  2016-05-06 00:00:00  t  f  f      t      f   ...      \n",
       "600677  2016.0    5.0  2016-05-05 00:00:00  t  f  f      t      f   ...      \n",
       "603476  2016.0    7.0  2016-07-05 00:00:00  t  f  f      t      f   ...      \n",
       "603502  2016.0    7.0  2016-07-07 00:00:00  t  f  f      t      f   ...      \n",
       "605246  2016.0    8.0  2016-08-01 00:00:00  t  f  f      t      f   ...      \n",
       "605271  2016.0    8.0  2016-08-01 00:00:00  t  f  f      t      f   ...      \n",
       "605279  2016.0    8.0  2016-08-01 00:00:00  t  f  f      t      f   ...      \n",
       "606991  2016.0    8.0  2016-08-29 00:00:00  t  f  f      t      f   ...      \n",
       "\n",
       "          zip    months  low_rent publichousing first_hearing_dow latitude  \\\n",
       "397701  19144       NaN       NaN             f               2.0      NaN   \n",
       "397703  19144       NaN       NaN             f               2.0      NaN   \n",
       "398797  19144       NaN       NaN             f               1.0      NaN   \n",
       "398798  19144       NaN       NaN             f               1.0      NaN   \n",
       "400649  19144       NaN       NaN             f               5.0      NaN   \n",
       "402199  19144       NaN       NaN             f               3.0      NaN   \n",
       "590009  19144  1.215425         t             f               2.0      NaN   \n",
       "594564  19144  2.784421         t             f               5.0      NaN   \n",
       "597867  19144  1.843116         t             f               3.0      NaN   \n",
       "600665  19144  1.669977         t             f               2.0      NaN   \n",
       "600677  19144  2.099060         t             f               2.0      NaN   \n",
       "603476  19144  1.000000         t             f               1.0      NaN   \n",
       "603502  19144  1.457429         t             f               1.0      NaN   \n",
       "605246  19144  1.562389         t             f               5.0      NaN   \n",
       "605271  19144  1.227186         t             f               5.0      NaN   \n",
       "605279  19144  1.139566         t             f               5.0      NaN   \n",
       "606991  19144  1.732762         t             f               5.0      NaN   \n",
       "\n",
       "       longitude clean_address firstname lastname  \n",
       "397701       NaN           NaN       NaN      NaN  \n",
       "397703       NaN           NaN       NaN      NaN  \n",
       "398797       NaN           NaN       NaN      NaN  \n",
       "398798       NaN           NaN       NaN      NaN  \n",
       "400649       NaN           NaN       NaN      NaN  \n",
       "402199       NaN           NaN       NaN      NaN  \n",
       "590009       NaN           NaN       NaN      NaN  \n",
       "594564       NaN           NaN       NaN      NaN  \n",
       "597867       NaN           NaN       NaN      NaN  \n",
       "600665       NaN           NaN       NaN      NaN  \n",
       "600677       NaN           NaN       NaN      NaN  \n",
       "603476       NaN           NaN       NaN      NaN  \n",
       "603502       NaN           NaN       NaN      NaN  \n",
       "605246       NaN           NaN       NaN      NaN  \n",
       "605271       NaN           NaN       NaN      NaN  \n",
       "605279       NaN           NaN       NaN      NaN  \n",
       "606991       NaN           NaN       NaN      NaN  \n",
       "\n",
       "[17 rows x 97 columns]"
      ]
     },
     "execution_count": 64,
     "metadata": {},
     "output_type": "execute_result"
    }
   ],
   "source": [
    "df_summary.loc[df_summary['plaintiff'].str.contains('6100 MCCALLUM',na=False)]"
   ]
  },
  {
   "cell_type": "code",
   "execution_count": 97,
   "metadata": {
    "collapsed": false
   },
   "outputs": [],
   "source": [
    "pelham = df_summary.loc[df_summary['plaintiff'].str.contains('PELHAM COURT',na=False)][['year','plaintiff_address']].sort_values(by='year')\n",
    "#for i,row in pelham.iterrows():\n",
    "    #print '%s\\t%s' % (row['year'],row['plaintiff_address'])"
   ]
  },
  {
   "cell_type": "code",
   "execution_count": null,
   "metadata": {
    "collapsed": true
   },
   "outputs": [],
   "source": []
  }
 ],
 "metadata": {
  "anaconda-cloud": {},
  "kernelspec": {
   "display_name": "Python [conda root]",
   "language": "python",
   "name": "conda-root-py"
  },
  "language_info": {
   "codemirror_mode": {
    "name": "ipython",
    "version": 2
   },
   "file_extension": ".py",
   "mimetype": "text/x-python",
   "name": "python",
   "nbconvert_exporter": "python",
   "pygments_lexer": "ipython2",
   "version": "2.7.12"
  }
 },
 "nbformat": 4,
 "nbformat_minor": 1
}
